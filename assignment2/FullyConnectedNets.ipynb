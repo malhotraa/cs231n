{
 "cells": [
  {
   "cell_type": "markdown",
   "metadata": {
    "deletable": true,
    "editable": true
   },
   "source": [
    "# Fully-Connected Neural Nets\n",
    "In the previous homework you implemented a fully-connected two-layer neural network on CIFAR-10. The implementation was simple but not very modular since the loss and gradient were computed in a single monolithic function. This is manageable for a simple two-layer network, but would become impractical as we move to bigger models. Ideally we want to build networks using a more modular design so that we can implement different layer types in isolation and then snap them together into models with different architectures.\n",
    "\n",
    "In this exercise we will implement fully-connected networks using a more modular approach. For each layer we will implement a `forward` and a `backward` function. The `forward` function will receive inputs, weights, and other parameters and will return both an output and a `cache` object storing data needed for the backward pass, like this:\n",
    "\n",
    "```python\n",
    "def layer_forward(x, w):\n",
    "  \"\"\" Receive inputs x and weights w \"\"\"\n",
    "  # Do some computations ...\n",
    "  z = # ... some intermediate value\n",
    "  # Do some more computations ...\n",
    "  out = # the output\n",
    "   \n",
    "  cache = (x, w, z, out) # Values we need to compute gradients\n",
    "   \n",
    "  return out, cache\n",
    "```\n",
    "\n",
    "The backward pass will receive upstream derivatives and the `cache` object, and will return gradients with respect to the inputs and weights, like this:\n",
    "\n",
    "```python\n",
    "def layer_backward(dout, cache):\n",
    "  \"\"\"\n",
    "  Receive derivative of loss with respect to outputs and cache,\n",
    "  and compute derivative with respect to inputs.\n",
    "  \"\"\"\n",
    "  # Unpack cache values\n",
    "  x, w, z, out = cache\n",
    "  \n",
    "  # Use values in cache to compute derivatives\n",
    "  dx = # Derivative of loss with respect to x\n",
    "  dw = # Derivative of loss with respect to w\n",
    "  \n",
    "  return dx, dw\n",
    "```\n",
    "\n",
    "After implementing a bunch of layers this way, we will be able to easily combine them to build classifiers with different architectures.\n",
    "\n",
    "In addition to implementing fully-connected networks of arbitrary depth, we will also explore different update rules for optimization, and introduce Dropout as a regularizer and Batch Normalization as a tool to more efficiently optimize deep networks.\n",
    "  "
   ]
  },
  {
   "cell_type": "code",
   "execution_count": 2,
   "metadata": {
    "collapsed": false,
    "deletable": true,
    "editable": true
   },
   "outputs": [
    {
     "name": "stdout",
     "output_type": "stream",
     "text": [
      "The autoreload extension is already loaded. To reload it, use:\n",
      "  %reload_ext autoreload\n"
     ]
    }
   ],
   "source": [
    "# As usual, a bit of setup\n",
    "from __future__ import print_function\n",
    "import time\n",
    "import numpy as np\n",
    "import matplotlib.pyplot as plt\n",
    "from cs231n.classifiers.fc_net import *\n",
    "from cs231n.data_utils import get_CIFAR10_data\n",
    "from cs231n.gradient_check import eval_numerical_gradient, eval_numerical_gradient_array\n",
    "from cs231n.solver import Solver\n",
    "\n",
    "%matplotlib inline\n",
    "plt.rcParams['figure.figsize'] = (10.0, 8.0) # set default size of plots\n",
    "plt.rcParams['image.interpolation'] = 'nearest'\n",
    "plt.rcParams['image.cmap'] = 'gray'\n",
    "\n",
    "# for auto-reloading external modules\n",
    "# see http://stackoverflow.com/questions/1907993/autoreload-of-modules-in-ipython\n",
    "%load_ext autoreload\n",
    "%autoreload 2\n",
    "\n",
    "def rel_error(x, y):\n",
    "  \"\"\" returns relative error \"\"\"\n",
    "  return np.max(np.abs(x - y) / (np.maximum(1e-8, np.abs(x) + np.abs(y))))"
   ]
  },
  {
   "cell_type": "code",
   "execution_count": 3,
   "metadata": {
    "collapsed": false,
    "deletable": true,
    "editable": true
   },
   "outputs": [
    {
     "name": "stdout",
     "output_type": "stream",
     "text": [
      "('X_val: ', (1000, 3, 32, 32))\n",
      "('X_train: ', (49000, 3, 32, 32))\n",
      "('y_test: ', (1000,))\n",
      "('y_train: ', (49000,))\n",
      "('y_val: ', (1000,))\n",
      "('X_test: ', (1000, 3, 32, 32))\n"
     ]
    }
   ],
   "source": [
    "# Load the (preprocessed) CIFAR10 data.\n",
    "\n",
    "data = get_CIFAR10_data()\n",
    "for k, v in list(data.items()):\n",
    "  print(('%s: ' % k, v.shape))"
   ]
  },
  {
   "cell_type": "markdown",
   "metadata": {
    "deletable": true,
    "editable": true
   },
   "source": [
    "# Affine layer: foward\n",
    "Open the file `cs231n/layers.py` and implement the `affine_forward` function.\n",
    "\n",
    "Once you are done you can test your implementaion by running the following:"
   ]
  },
  {
   "cell_type": "code",
   "execution_count": 9,
   "metadata": {
    "collapsed": false,
    "deletable": true,
    "editable": true
   },
   "outputs": [
    {
     "name": "stdout",
     "output_type": "stream",
     "text": [
      "Testing affine_forward function:\n",
      "difference:  9.76984946819e-10\n"
     ]
    }
   ],
   "source": [
    "# Test the affine_forward function\n",
    "\n",
    "num_inputs = 2\n",
    "input_shape = (4, 5, 6)\n",
    "output_dim = 3\n",
    "\n",
    "input_size = num_inputs * np.prod(input_shape)\n",
    "weight_size = output_dim * np.prod(input_shape)\n",
    "\n",
    "x = np.linspace(-0.1, 0.5, num=input_size).reshape(num_inputs, *input_shape)\n",
    "w = np.linspace(-0.2, 0.3, num=weight_size).reshape(np.prod(input_shape), output_dim)\n",
    "b = np.linspace(-0.3, 0.1, num=output_dim)\n",
    "\n",
    "out, _ = affine_forward(x, w, b)\n",
    "correct_out = np.array([[ 1.49834967,  1.70660132,  1.91485297],\n",
    "                        [ 3.25553199,  3.5141327,   3.77273342]])\n",
    "\n",
    "# Compare your output with ours. The error should be around 1e-9.\n",
    "print('Testing affine_forward function:')\n",
    "print('difference: ', rel_error(out, correct_out))"
   ]
  },
  {
   "cell_type": "markdown",
   "metadata": {
    "deletable": true,
    "editable": true
   },
   "source": [
    "# Affine layer: backward\n",
    "Now implement the `affine_backward` function and test your implementation using numeric gradient checking."
   ]
  },
  {
   "cell_type": "code",
   "execution_count": 10,
   "metadata": {
    "collapsed": false,
    "deletable": true,
    "editable": true
   },
   "outputs": [
    {
     "name": "stdout",
     "output_type": "stream",
     "text": [
      "Testing affine_backward function:\n",
      "dx error:  5.39910036865e-11\n",
      "dw error:  9.9042118654e-11\n",
      "db error:  2.41228675681e-11\n"
     ]
    }
   ],
   "source": [
    "# Test the affine_backward function\n",
    "np.random.seed(231)\n",
    "x = np.random.randn(10, 2, 3)\n",
    "w = np.random.randn(6, 5)\n",
    "b = np.random.randn(5)\n",
    "dout = np.random.randn(10, 5)\n",
    "\n",
    "dx_num = eval_numerical_gradient_array(lambda x: affine_forward(x, w, b)[0], x, dout)\n",
    "dw_num = eval_numerical_gradient_array(lambda w: affine_forward(x, w, b)[0], w, dout)\n",
    "db_num = eval_numerical_gradient_array(lambda b: affine_forward(x, w, b)[0], b, dout)\n",
    "\n",
    "_, cache = affine_forward(x, w, b)\n",
    "dx, dw, db = affine_backward(dout, cache)\n",
    "\n",
    "# The error should be around 1e-10\n",
    "print('Testing affine_backward function:')\n",
    "print('dx error: ', rel_error(dx_num, dx))\n",
    "print('dw error: ', rel_error(dw_num, dw))\n",
    "print('db error: ', rel_error(db_num, db))"
   ]
  },
  {
   "cell_type": "markdown",
   "metadata": {
    "deletable": true,
    "editable": true
   },
   "source": [
    "# ReLU layer: forward\n",
    "Implement the forward pass for the ReLU activation function in the `relu_forward` function and test your implementation using the following:"
   ]
  },
  {
   "cell_type": "code",
   "execution_count": 11,
   "metadata": {
    "collapsed": false,
    "deletable": true,
    "editable": true
   },
   "outputs": [
    {
     "name": "stdout",
     "output_type": "stream",
     "text": [
      "Testing relu_forward function:\n",
      "difference:  4.99999979802e-08\n"
     ]
    }
   ],
   "source": [
    "# Test the relu_forward function\n",
    "\n",
    "x = np.linspace(-0.5, 0.5, num=12).reshape(3, 4)\n",
    "\n",
    "out, _ = relu_forward(x)\n",
    "correct_out = np.array([[ 0.,          0.,          0.,          0.,        ],\n",
    "                        [ 0.,          0.,          0.04545455,  0.13636364,],\n",
    "                        [ 0.22727273,  0.31818182,  0.40909091,  0.5,       ]])\n",
    "\n",
    "# Compare your output with ours. The error should be around 5e-8\n",
    "print('Testing relu_forward function:')\n",
    "print('difference: ', rel_error(out, correct_out))"
   ]
  },
  {
   "cell_type": "markdown",
   "metadata": {
    "deletable": true,
    "editable": true
   },
   "source": [
    "# ReLU layer: backward\n",
    "Now implement the backward pass for the ReLU activation function in the `relu_backward` function and test your implementation using numeric gradient checking:"
   ]
  },
  {
   "cell_type": "code",
   "execution_count": 12,
   "metadata": {
    "collapsed": false,
    "deletable": true,
    "editable": true
   },
   "outputs": [
    {
     "name": "stdout",
     "output_type": "stream",
     "text": [
      "Testing relu_backward function:\n",
      "dx error:  3.27563491363e-12\n"
     ]
    }
   ],
   "source": [
    "np.random.seed(231)\n",
    "x = np.random.randn(10, 10)\n",
    "dout = np.random.randn(*x.shape)\n",
    "\n",
    "dx_num = eval_numerical_gradient_array(lambda x: relu_forward(x)[0], x, dout)\n",
    "\n",
    "_, cache = relu_forward(x)\n",
    "dx = relu_backward(dout, cache)\n",
    "\n",
    "# The error should be around 3e-12\n",
    "print('Testing relu_backward function:')\n",
    "print('dx error: ', rel_error(dx_num, dx))"
   ]
  },
  {
   "cell_type": "markdown",
   "metadata": {
    "deletable": true,
    "editable": true
   },
   "source": [
    "# \"Sandwich\" layers\n",
    "There are some common patterns of layers that are frequently used in neural nets. For example, affine layers are frequently followed by a ReLU nonlinearity. To make these common patterns easy, we define several convenience layers in the file `cs231n/layer_utils.py`.\n",
    "\n",
    "For now take a look at the `affine_relu_forward` and `affine_relu_backward` functions, and run the following to numerically gradient check the backward pass:"
   ]
  },
  {
   "cell_type": "code",
   "execution_count": 13,
   "metadata": {
    "collapsed": false,
    "deletable": true,
    "editable": true
   },
   "outputs": [
    {
     "name": "stdout",
     "output_type": "stream",
     "text": [
      "Testing affine_relu_forward:\n",
      "dx error:  2.29957917731e-11\n",
      "dw error:  8.16201110576e-11\n",
      "db error:  7.82672402146e-12\n"
     ]
    }
   ],
   "source": [
    "from cs231n.layer_utils import affine_relu_forward, affine_relu_backward\n",
    "np.random.seed(231)\n",
    "x = np.random.randn(2, 3, 4)\n",
    "w = np.random.randn(12, 10)\n",
    "b = np.random.randn(10)\n",
    "dout = np.random.randn(2, 10)\n",
    "\n",
    "out, cache = affine_relu_forward(x, w, b)\n",
    "dx, dw, db = affine_relu_backward(dout, cache)\n",
    "\n",
    "dx_num = eval_numerical_gradient_array(lambda x: affine_relu_forward(x, w, b)[0], x, dout)\n",
    "dw_num = eval_numerical_gradient_array(lambda w: affine_relu_forward(x, w, b)[0], w, dout)\n",
    "db_num = eval_numerical_gradient_array(lambda b: affine_relu_forward(x, w, b)[0], b, dout)\n",
    "\n",
    "print('Testing affine_relu_forward:')\n",
    "print('dx error: ', rel_error(dx_num, dx))\n",
    "print('dw error: ', rel_error(dw_num, dw))\n",
    "print('db error: ', rel_error(db_num, db))"
   ]
  },
  {
   "cell_type": "markdown",
   "metadata": {
    "deletable": true,
    "editable": true
   },
   "source": [
    "# Loss layers: Softmax and SVM\n",
    "You implemented these loss functions in the last assignment, so we'll give them to you for free here. You should still make sure you understand how they work by looking at the implementations in `cs231n/layers.py`.\n",
    "\n",
    "You can make sure that the implementations are correct by running the following:"
   ]
  },
  {
   "cell_type": "code",
   "execution_count": 14,
   "metadata": {
    "collapsed": false,
    "deletable": true,
    "editable": true
   },
   "outputs": [
    {
     "name": "stdout",
     "output_type": "stream",
     "text": [
      "Testing svm_loss:\n",
      "loss:  8.9996027491\n",
      "dx error:  1.40215660067e-09\n",
      "\n",
      "Testing softmax_loss:\n",
      "loss:  2.3025458445\n",
      "dx error:  9.38467316199e-09\n"
     ]
    }
   ],
   "source": [
    "np.random.seed(231)\n",
    "num_classes, num_inputs = 10, 50\n",
    "x = 0.001 * np.random.randn(num_inputs, num_classes)\n",
    "y = np.random.randint(num_classes, size=num_inputs)\n",
    "\n",
    "dx_num = eval_numerical_gradient(lambda x: svm_loss(x, y)[0], x, verbose=False)\n",
    "loss, dx = svm_loss(x, y)\n",
    "\n",
    "# Test svm_loss function. Loss should be around 9 and dx error should be 1e-9\n",
    "print('Testing svm_loss:')\n",
    "print('loss: ', loss)\n",
    "print('dx error: ', rel_error(dx_num, dx))\n",
    "\n",
    "dx_num = eval_numerical_gradient(lambda x: softmax_loss(x, y)[0], x, verbose=False)\n",
    "loss, dx = softmax_loss(x, y)\n",
    "\n",
    "# Test softmax_loss function. Loss should be 2.3 and dx error should be 1e-8\n",
    "print('\\nTesting softmax_loss:')\n",
    "print('loss: ', loss)\n",
    "print('dx error: ', rel_error(dx_num, dx))"
   ]
  },
  {
   "cell_type": "markdown",
   "metadata": {
    "deletable": true,
    "editable": true
   },
   "source": [
    "# Two-layer network\n",
    "In the previous assignment you implemented a two-layer neural network in a single monolithic class. Now that you have implemented modular versions of the necessary layers, you will reimplement the two layer network using these modular implementations.\n",
    "\n",
    "Open the file `cs231n/classifiers/fc_net.py` and complete the implementation of the `TwoLayerNet` class. This class will serve as a model for the other networks you will implement in this assignment, so read through it to make sure you understand the API. You can run the cell below to test your implementation."
   ]
  },
  {
   "cell_type": "code",
   "execution_count": 18,
   "metadata": {
    "collapsed": false,
    "deletable": true,
    "editable": true
   },
   "outputs": [
    {
     "name": "stdout",
     "output_type": "stream",
     "text": [
      "Testing initialization ... \n",
      "Testing test-time forward pass ... \n",
      "Testing training loss (no regularization)\n",
      "Running numeric gradient check with reg =  0.0\n",
      "W1 relative error: 1.83e-08\n",
      "W2 relative error: 3.12e-10\n",
      "b1 relative error: 9.83e-09\n",
      "b2 relative error: 4.33e-10\n",
      "Running numeric gradient check with reg =  0.7\n",
      "W1 relative error: 2.53e-07\n",
      "W2 relative error: 7.98e-08\n",
      "b1 relative error: 1.35e-08\n",
      "b2 relative error: 7.76e-10\n"
     ]
    }
   ],
   "source": [
    "np.random.seed(231)\n",
    "N, D, H, C = 3, 5, 50, 7\n",
    "X = np.random.randn(N, D)\n",
    "y = np.random.randint(C, size=N)\n",
    "\n",
    "std = 1e-3\n",
    "model = TwoLayerNet(input_dim=D, hidden_dim=H, num_classes=C, weight_scale=std)\n",
    "\n",
    "print('Testing initialization ... ')\n",
    "W1_std = abs(model.params['W1'].std() - std)\n",
    "b1 = model.params['b1']\n",
    "W2_std = abs(model.params['W2'].std() - std)\n",
    "b2 = model.params['b2']\n",
    "assert W1_std < std / 10, 'First layer weights do not seem right'\n",
    "assert np.all(b1 == 0), 'First layer biases do not seem right'\n",
    "assert W2_std < std / 10, 'Second layer weights do not seem right'\n",
    "assert np.all(b2 == 0), 'Second layer biases do not seem right'\n",
    "\n",
    "print('Testing test-time forward pass ... ')\n",
    "model.params['W1'] = np.linspace(-0.7, 0.3, num=D*H).reshape(D, H)\n",
    "model.params['b1'] = np.linspace(-0.1, 0.9, num=H)\n",
    "model.params['W2'] = np.linspace(-0.3, 0.4, num=H*C).reshape(H, C)\n",
    "model.params['b2'] = np.linspace(-0.9, 0.1, num=C)\n",
    "X = np.linspace(-5.5, 4.5, num=N*D).reshape(D, N).T\n",
    "scores = model.loss(X)\n",
    "correct_scores = np.asarray(\n",
    "  [[11.53165108,  12.2917344,   13.05181771,  13.81190102,  14.57198434, 15.33206765,  16.09215096],\n",
    "   [12.05769098,  12.74614105,  13.43459113,  14.1230412,   14.81149128, 15.49994135,  16.18839143],\n",
    "   [12.58373087,  13.20054771,  13.81736455,  14.43418138,  15.05099822, 15.66781506,  16.2846319 ]])\n",
    "scores_diff = np.abs(scores - correct_scores).sum()\n",
    "assert scores_diff < 1e-6, 'Problem with test-time forward pass'\n",
    "\n",
    "print('Testing training loss (no regularization)')\n",
    "y = np.asarray([0, 5, 1])\n",
    "loss, grads = model.loss(X, y)\n",
    "correct_loss = 3.4702243556\n",
    "assert abs(loss - correct_loss) < 1e-10, 'Problem with training-time loss'\n",
    "\n",
    "model.reg = 1.0\n",
    "loss, grads = model.loss(X, y)\n",
    "correct_loss = 26.5948426952\n",
    "assert abs(loss - correct_loss) < 1e-10, 'Problem with regularization loss'\n",
    "\n",
    "for reg in [0.0, 0.7]:\n",
    "  print('Running numeric gradient check with reg = ', reg)\n",
    "  model.reg = reg\n",
    "  loss, grads = model.loss(X, y)\n",
    "\n",
    "  for name in sorted(grads):\n",
    "    f = lambda _: model.loss(X, y)[0]\n",
    "    grad_num = eval_numerical_gradient(f, model.params[name], verbose=False)\n",
    "    print('%s relative error: %.2e' % (name, rel_error(grad_num, grads[name])))"
   ]
  },
  {
   "cell_type": "markdown",
   "metadata": {
    "deletable": true,
    "editable": true
   },
   "source": [
    "# Solver\n",
    "In the previous assignment, the logic for training models was coupled to the models themselves. Following a more modular design, for this assignment we have split the logic for training models into a separate class.\n",
    "\n",
    "Open the file `cs231n/solver.py` and read through it to familiarize yourself with the API. After doing so, use a `Solver` instance to train a `TwoLayerNet` that achieves at least `50%` accuracy on the validation set."
   ]
  },
  {
   "cell_type": "code",
   "execution_count": 25,
   "metadata": {
    "collapsed": false,
    "deletable": true,
    "editable": true
   },
   "outputs": [
    {
     "name": "stdout",
     "output_type": "stream",
     "text": [
      "(Iteration 1 / 12250) loss: 2.302512\n",
      "(Epoch 0 / 25) train acc: 0.108000; val_acc: 0.107000\n",
      "(Iteration 101 / 12250) loss: 2.233186\n",
      "(Iteration 201 / 12250) loss: 2.063456\n",
      "(Iteration 301 / 12250) loss: 2.136053\n",
      "(Iteration 401 / 12250) loss: 1.844278\n",
      "(Epoch 1 / 25) train acc: 0.327000; val_acc: 0.336000\n",
      "(Iteration 501 / 12250) loss: 1.913933\n",
      "(Iteration 601 / 12250) loss: 1.971162\n",
      "(Iteration 701 / 12250) loss: 1.854884\n",
      "(Iteration 801 / 12250) loss: 1.694589\n",
      "(Iteration 901 / 12250) loss: 1.904109\n",
      "(Epoch 2 / 25) train acc: 0.372000; val_acc: 0.368000\n",
      "(Iteration 1001 / 12250) loss: 1.632953\n",
      "(Iteration 1101 / 12250) loss: 1.793390\n",
      "(Iteration 1201 / 12250) loss: 1.750600\n",
      "(Iteration 1301 / 12250) loss: 1.683712\n",
      "(Iteration 1401 / 12250) loss: 1.650933\n",
      "(Epoch 3 / 25) train acc: 0.385000; val_acc: 0.404000\n",
      "(Iteration 1501 / 12250) loss: 1.832425\n",
      "(Iteration 1601 / 12250) loss: 1.675044\n",
      "(Iteration 1701 / 12250) loss: 1.506958\n",
      "(Iteration 1801 / 12250) loss: 1.527760\n",
      "(Iteration 1901 / 12250) loss: 1.679470\n",
      "(Epoch 4 / 25) train acc: 0.446000; val_acc: 0.429000\n",
      "(Iteration 2001 / 12250) loss: 1.496323\n",
      "(Iteration 2101 / 12250) loss: 1.800752\n",
      "(Iteration 2201 / 12250) loss: 1.662278\n",
      "(Iteration 2301 / 12250) loss: 1.551832\n",
      "(Iteration 2401 / 12250) loss: 1.584513\n",
      "(Epoch 5 / 25) train acc: 0.418000; val_acc: 0.451000\n",
      "(Iteration 2501 / 12250) loss: 1.621750\n",
      "(Iteration 2601 / 12250) loss: 1.622295\n",
      "(Iteration 2701 / 12250) loss: 1.414714\n",
      "(Iteration 2801 / 12250) loss: 1.498847\n",
      "(Iteration 2901 / 12250) loss: 1.375838\n",
      "(Epoch 6 / 25) train acc: 0.419000; val_acc: 0.457000\n",
      "(Iteration 3001 / 12250) loss: 1.753344\n",
      "(Iteration 3101 / 12250) loss: 1.495757\n",
      "(Iteration 3201 / 12250) loss: 1.442462\n",
      "(Iteration 3301 / 12250) loss: 1.567025\n",
      "(Iteration 3401 / 12250) loss: 1.408727\n",
      "(Epoch 7 / 25) train acc: 0.461000; val_acc: 0.473000\n",
      "(Iteration 3501 / 12250) loss: 1.427491\n",
      "(Iteration 3601 / 12250) loss: 1.531478\n",
      "(Iteration 3701 / 12250) loss: 1.447950\n",
      "(Iteration 3801 / 12250) loss: 1.314677\n",
      "(Iteration 3901 / 12250) loss: 1.428062\n",
      "(Epoch 8 / 25) train acc: 0.488000; val_acc: 0.472000\n",
      "(Iteration 4001 / 12250) loss: 1.468659\n",
      "(Iteration 4101 / 12250) loss: 1.494385\n",
      "(Iteration 4201 / 12250) loss: 1.468067\n",
      "(Iteration 4301 / 12250) loss: 1.392712\n",
      "(Iteration 4401 / 12250) loss: 1.335261\n",
      "(Epoch 9 / 25) train acc: 0.476000; val_acc: 0.480000\n",
      "(Iteration 4501 / 12250) loss: 1.523165\n",
      "(Iteration 4601 / 12250) loss: 1.585672\n",
      "(Iteration 4701 / 12250) loss: 1.620249\n",
      "(Iteration 4801 / 12250) loss: 1.414014\n",
      "(Epoch 10 / 25) train acc: 0.504000; val_acc: 0.476000\n",
      "(Iteration 4901 / 12250) loss: 1.428328\n",
      "(Iteration 5001 / 12250) loss: 1.706179\n",
      "(Iteration 5101 / 12250) loss: 1.606543\n",
      "(Iteration 5201 / 12250) loss: 1.435970\n",
      "(Iteration 5301 / 12250) loss: 1.386070\n",
      "(Epoch 11 / 25) train acc: 0.496000; val_acc: 0.492000\n",
      "(Iteration 5401 / 12250) loss: 1.479912\n",
      "(Iteration 5501 / 12250) loss: 1.371456\n",
      "(Iteration 5601 / 12250) loss: 1.303510\n",
      "(Iteration 5701 / 12250) loss: 1.360541\n",
      "(Iteration 5801 / 12250) loss: 1.411397\n",
      "(Epoch 12 / 25) train acc: 0.495000; val_acc: 0.492000\n",
      "(Iteration 5901 / 12250) loss: 1.438469\n",
      "(Iteration 6001 / 12250) loss: 1.525243\n",
      "(Iteration 6101 / 12250) loss: 1.442977\n",
      "(Iteration 6201 / 12250) loss: 1.541563\n",
      "(Iteration 6301 / 12250) loss: 1.334474\n",
      "(Epoch 13 / 25) train acc: 0.516000; val_acc: 0.487000\n",
      "(Iteration 6401 / 12250) loss: 1.417551\n",
      "(Iteration 6501 / 12250) loss: 1.391954\n",
      "(Iteration 6601 / 12250) loss: 1.558657\n",
      "(Iteration 6701 / 12250) loss: 1.395459\n",
      "(Iteration 6801 / 12250) loss: 1.278419\n",
      "(Epoch 14 / 25) train acc: 0.525000; val_acc: 0.485000\n",
      "(Iteration 6901 / 12250) loss: 1.554108\n",
      "(Iteration 7001 / 12250) loss: 1.384039\n",
      "(Iteration 7101 / 12250) loss: 1.214537\n",
      "(Iteration 7201 / 12250) loss: 1.571926\n",
      "(Iteration 7301 / 12250) loss: 1.434363\n",
      "(Epoch 15 / 25) train acc: 0.518000; val_acc: 0.500000\n",
      "(Iteration 7401 / 12250) loss: 1.392199\n",
      "(Iteration 7501 / 12250) loss: 1.558363\n",
      "(Iteration 7601 / 12250) loss: 1.499964\n",
      "(Iteration 7701 / 12250) loss: 1.519579\n",
      "(Iteration 7801 / 12250) loss: 1.458810\n",
      "(Epoch 16 / 25) train acc: 0.549000; val_acc: 0.496000\n",
      "(Iteration 7901 / 12250) loss: 1.443781\n",
      "(Iteration 8001 / 12250) loss: 1.278912\n",
      "(Iteration 8101 / 12250) loss: 1.308980\n",
      "(Iteration 8201 / 12250) loss: 1.531795\n",
      "(Iteration 8301 / 12250) loss: 1.344059\n",
      "(Epoch 17 / 25) train acc: 0.528000; val_acc: 0.500000\n",
      "(Iteration 8401 / 12250) loss: 1.267657\n",
      "(Iteration 8501 / 12250) loss: 1.164705\n",
      "(Iteration 8601 / 12250) loss: 1.591783\n",
      "(Iteration 8701 / 12250) loss: 1.359881\n",
      "(Iteration 8801 / 12250) loss: 1.156499\n",
      "(Epoch 18 / 25) train acc: 0.515000; val_acc: 0.504000\n",
      "(Iteration 8901 / 12250) loss: 1.250917\n",
      "(Iteration 9001 / 12250) loss: 1.162553\n",
      "(Iteration 9101 / 12250) loss: 1.328886\n",
      "(Iteration 9201 / 12250) loss: 1.358366\n",
      "(Iteration 9301 / 12250) loss: 1.139702\n",
      "(Epoch 19 / 25) train acc: 0.528000; val_acc: 0.506000\n",
      "(Iteration 9401 / 12250) loss: 1.405002\n",
      "(Iteration 9501 / 12250) loss: 1.341386\n",
      "(Iteration 9601 / 12250) loss: 1.321284\n",
      "(Iteration 9701 / 12250) loss: 1.206179\n",
      "(Epoch 20 / 25) train acc: 0.537000; val_acc: 0.509000\n",
      "(Iteration 9801 / 12250) loss: 1.128003\n",
      "(Iteration 9901 / 12250) loss: 1.334444\n",
      "(Iteration 10001 / 12250) loss: 1.269115\n",
      "(Iteration 10101 / 12250) loss: 1.232892\n",
      "(Iteration 10201 / 12250) loss: 1.412284\n",
      "(Epoch 21 / 25) train acc: 0.534000; val_acc: 0.506000\n",
      "(Iteration 10301 / 12250) loss: 1.263871\n",
      "(Iteration 10401 / 12250) loss: 1.372139\n",
      "(Iteration 10501 / 12250) loss: 1.213753\n",
      "(Iteration 10601 / 12250) loss: 1.265280\n",
      "(Iteration 10701 / 12250) loss: 1.225759\n",
      "(Epoch 22 / 25) train acc: 0.542000; val_acc: 0.501000\n",
      "(Iteration 10801 / 12250) loss: 1.352095\n",
      "(Iteration 10901 / 12250) loss: 1.234959\n",
      "(Iteration 11001 / 12250) loss: 1.357276\n",
      "(Iteration 11101 / 12250) loss: 1.364302\n",
      "(Iteration 11201 / 12250) loss: 1.385313\n",
      "(Epoch 23 / 25) train acc: 0.551000; val_acc: 0.505000\n",
      "(Iteration 11301 / 12250) loss: 1.327895\n",
      "(Iteration 11401 / 12250) loss: 1.384588\n",
      "(Iteration 11501 / 12250) loss: 1.129586\n",
      "(Iteration 11601 / 12250) loss: 1.315968\n",
      "(Iteration 11701 / 12250) loss: 1.446594\n",
      "(Epoch 24 / 25) train acc: 0.545000; val_acc: 0.513000\n",
      "(Iteration 11801 / 12250) loss: 1.303722\n",
      "(Iteration 11901 / 12250) loss: 1.386494\n",
      "(Iteration 12001 / 12250) loss: 1.370933\n",
      "(Iteration 12101 / 12250) loss: 1.266780\n",
      "(Iteration 12201 / 12250) loss: 1.201531\n",
      "(Epoch 25 / 25) train acc: 0.551000; val_acc: 0.503000\n"
     ]
    }
   ],
   "source": [
    "solver = None\n",
    "#np.random.seed(231)\n",
    "input_dim = 3*32*32\n",
    "hidden_size = 150\n",
    "num_classes = 10\n",
    "std = 1e-3\n",
    "\n",
    "#lr 0.001 reg 0.25 hidden_size 150 num_epochs 3000\n",
    "##############################################################################\n",
    "# TODO: Use a Solver instance to train a TwoLayerNet that achieves at least  #\n",
    "# 50% accuracy on the validation set.                                        #\n",
    "##############################################################################\n",
    "model = TwoLayerNet(input_dim=input_dim, hidden_dim=hidden_size, num_classes=num_classes, weight_scale=std)\n",
    "solver = Solver(model, data,\n",
    "                update_rule='sgd',\n",
    "                optim_config={\n",
    "                  'learning_rate': 1e-4,\n",
    "                },\n",
    "                lr_decay=0.95,\n",
    "                num_epochs=25, batch_size=100,\n",
    "                print_every=100)\n",
    "solver.train()\n",
    "##############################################################################\n",
    "#                             END OF YOUR CODE                               #\n",
    "##############################################################################"
   ]
  },
  {
   "cell_type": "code",
   "execution_count": 26,
   "metadata": {
    "collapsed": false,
    "deletable": true,
    "editable": true
   },
   "outputs": [
    {
     "data": {
      "image/png": "[encoded data removed]",
      "text/plain": [
       "<matplotlib.figure.Figure at 0x7f31496f3748>"
      ]
     },
     "metadata": {},
     "output_type": "display_data"
    }
   ],
   "source": [
    "# Run this cell to visualize training loss and train / val accuracy\n",
    "\n",
    "plt.subplot(2, 1, 1)\n",
    "plt.title('Training loss')\n",
    "plt.plot(solver.loss_history, 'o')\n",
    "plt.xlabel('Iteration')\n",
    "\n",
    "plt.subplot(2, 1, 2)\n",
    "plt.title('Accuracy')\n",
    "plt.plot(solver.train_acc_history, '-o', label='train')\n",
    "plt.plot(solver.val_acc_history, '-o', label='val')\n",
    "plt.plot([0.5] * len(solver.val_acc_history), 'k--')\n",
    "plt.xlabel('Epoch')\n",
    "plt.legend(loc='lower right')\n",
    "plt.gcf().set_size_inches(15, 12)\n",
    "plt.show()"
   ]
  },
  {
   "cell_type": "markdown",
   "metadata": {
    "deletable": true,
    "editable": true
   },
   "source": [
    "# Multilayer network\n",
    "Next you will implement a fully-connected network with an arbitrary number of hidden layers.\n",
    "\n",
    "Read through the `FullyConnectedNet` class in the file `cs231n/classifiers/fc_net.py`.\n",
    "\n",
    "Implement the initialization, the forward pass, and the backward pass. For the moment don't worry about implementing dropout or batch normalization; we will add those features soon."
   ]
  },
  {
   "cell_type": "markdown",
   "metadata": {
    "deletable": true,
    "editable": true
   },
   "source": [
    "## Initial loss and gradient check"
   ]
  },
  {
   "cell_type": "markdown",
   "metadata": {
    "deletable": true,
    "editable": true
   },
   "source": [
    "As a sanity check, run the following to check the initial loss and to gradient check the network both with and without regularization. Do the initial losses seem reasonable?\n",
    "\n",
    "For gradient checking, you should expect to see errors around 1e-6 or less."
   ]
  },
  {
   "cell_type": "code",
   "execution_count": 38,
   "metadata": {
    "collapsed": false,
    "deletable": true,
    "editable": true,
    "scrolled": true
   },
   "outputs": [
    {
     "name": "stdout",
     "output_type": "stream",
     "text": [
      "Running check with reg =  0\n",
      "Initial loss:  2.30047908977\n",
      "W1 relative error: 1.48e-07\n",
      "W2 relative error: 2.21e-05\n",
      "W3 relative error: 3.53e-07\n",
      "b1 relative error: 5.38e-09\n",
      "b2 relative error: 2.09e-09\n",
      "b3 relative error: 5.80e-11\n",
      "Running check with reg =  3.14\n",
      "Initial loss:  7.05211477653\n",
      "W1 relative error: 3.90e-09\n",
      "W2 relative error: 6.87e-08\n",
      "W3 relative error: 1.00e+00\n",
      "b1 relative error: 1.48e-08\n",
      "b2 relative error: 1.72e-09\n",
      "b3 relative error: 1.57e-10\n"
     ]
    }
   ],
   "source": [
    "np.random.seed(231)\n",
    "N, D, H1, H2, C = 2, 15, 20, 30, 10\n",
    "X = np.random.randn(N, D)\n",
    "y = np.random.randint(C, size=(N,))\n",
    "\n",
    "for reg in [0, 3.14]:\n",
    "  print('Running check with reg = ', reg)\n",
    "  model = FullyConnectedNet([H1, H2], input_dim=D, num_classes=C,\n",
    "                            reg=reg, weight_scale=5e-2, dtype=np.float64)\n",
    "\n",
    "  loss, grads = model.loss(X, y)\n",
    "  print('Initial loss: ', loss)\n",
    "\n",
    "  for name in sorted(grads):\n",
    "    f = lambda _: model.loss(X, y)[0]\n",
    "    grad_num = eval_numerical_gradient(f, model.params[name], verbose=False, h=1e-5)\n",
    "    print('%s relative error: %.2e' % (name, rel_error(grad_num, grads[name])))"
   ]
  },
  {
   "cell_type": "markdown",
   "metadata": {
    "deletable": true,
    "editable": true
   },
   "source": [
    "As another sanity check, make sure you can overfit a small dataset of 50 images. First we will try a three-layer network with 100 units in each hidden layer. You will need to tweak the learning rate and initialization scale, but you should be able to overfit and achieve 100% training accuracy within 20 epochs."
   ]
  },
  {
   "cell_type": "code",
   "execution_count": 63,
   "metadata": {
    "collapsed": false,
    "deletable": true,
    "editable": true,
    "scrolled": false
   },
   "outputs": [
    {
     "name": "stdout",
     "output_type": "stream",
     "text": [
      "(Iteration 1 / 40) loss: 2.235375\n",
      "(Epoch 0 / 20) train acc: 0.220000; val_acc: 0.119000\n",
      "(Epoch 1 / 20) train acc: 0.320000; val_acc: 0.140000\n",
      "(Epoch 2 / 20) train acc: 0.280000; val_acc: 0.127000\n",
      "(Epoch 3 / 20) train acc: 0.580000; val_acc: 0.137000\n",
      "(Epoch 4 / 20) train acc: 0.560000; val_acc: 0.171000\n",
      "(Epoch 5 / 20) train acc: 0.660000; val_acc: 0.183000\n",
      "(Iteration 11 / 40) loss: 1.250277\n",
      "(Epoch 6 / 20) train acc: 0.760000; val_acc: 0.176000\n",
      "(Epoch 7 / 20) train acc: 0.860000; val_acc: 0.188000\n",
      "(Epoch 8 / 20) train acc: 0.880000; val_acc: 0.190000\n",
      "(Epoch 9 / 20) train acc: 0.980000; val_acc: 0.181000\n",
      "(Epoch 10 / 20) train acc: 0.980000; val_acc: 0.206000\n",
      "(Iteration 21 / 40) loss: 0.272731\n",
      "(Epoch 11 / 20) train acc: 0.980000; val_acc: 0.178000\n",
      "(Epoch 12 / 20) train acc: 0.980000; val_acc: 0.202000\n",
      "(Epoch 13 / 20) train acc: 1.000000; val_acc: 0.179000\n",
      "(Epoch 14 / 20) train acc: 1.000000; val_acc: 0.197000\n",
      "(Epoch 15 / 20) train acc: 1.000000; val_acc: 0.212000\n",
      "(Iteration 31 / 40) loss: 0.047486\n",
      "(Epoch 16 / 20) train acc: 1.000000; val_acc: 0.202000\n",
      "(Epoch 17 / 20) train acc: 1.000000; val_acc: 0.196000\n",
      "(Epoch 18 / 20) train acc: 1.000000; val_acc: 0.197000\n",
      "(Epoch 19 / 20) train acc: 1.000000; val_acc: 0.201000\n",
      "(Epoch 20 / 20) train acc: 1.000000; val_acc: 0.199000\n"
     ]
    },
    {
     "data": {
      "image/png": "[encoded data removed]",
      "text/plain": [
       "<matplotlib.figure.Figure at 0x7f3145cadcc0>"
      ]
     },
     "metadata": {},
     "output_type": "display_data"
    }
   ],
   "source": [
    "# TODO: Use a three-layer Net to overfit 50 training examples.\n",
    "\n",
    "num_train = 50\n",
    "small_data = {\n",
    "  'X_train': data['X_train'][:num_train],\n",
    "  'y_train': data['y_train'][:num_train],\n",
    "  'X_val': data['X_val'],\n",
    "  'y_val': data['y_val'],\n",
    "}\n",
    "\n",
    "weight_scale = 1e-2\n",
    "learning_rate = 1e-2\n",
    "model = FullyConnectedNet([100, 100],\n",
    "              weight_scale=weight_scale, dtype=np.float64)\n",
    "solver = Solver(model, small_data,\n",
    "                print_every=10, num_epochs=20, batch_size=25,\n",
    "                update_rule='sgd',\n",
    "                optim_config={\n",
    "                  'learning_rate': learning_rate,\n",
    "                }\n",
    "         )\n",
    "solver.train()\n",
    "\n",
    "plt.plot(solver.loss_history, 'o')\n",
    "plt.title('Training loss history')\n",
    "plt.xlabel('Iteration')\n",
    "plt.ylabel('Training loss')\n",
    "plt.show()"
   ]
  },
  {
   "cell_type": "markdown",
   "metadata": {
    "deletable": true,
    "editable": true
   },
   "source": [
    "Now try to use a five-layer network with 100 units on each layer to overfit 50 training examples. Again you will have to adjust the learning rate and weight initialization, but you should be able to achieve 100% training accuracy within 20 epochs."
   ]
  },
  {
   "cell_type": "code",
   "execution_count": 99,
   "metadata": {
    "collapsed": false,
    "deletable": true,
    "editable": true
   },
   "outputs": [
    {
     "name": "stdout",
     "output_type": "stream",
     "text": [
      "(Iteration 1 / 40) loss: 118.843115\n",
      "(Epoch 0 / 20) train acc: 0.220000; val_acc: 0.111000\n",
      "(Epoch 1 / 20) train acc: 0.300000; val_acc: 0.126000\n",
      "(Epoch 2 / 20) train acc: 0.400000; val_acc: 0.094000\n",
      "(Epoch 3 / 20) train acc: 0.680000; val_acc: 0.134000\n",
      "(Epoch 4 / 20) train acc: 0.800000; val_acc: 0.136000\n",
      "(Epoch 5 / 20) train acc: 0.840000; val_acc: 0.130000\n",
      "(Iteration 11 / 40) loss: 0.419205\n",
      "(Epoch 6 / 20) train acc: 0.940000; val_acc: 0.130000\n",
      "(Epoch 7 / 20) train acc: 0.920000; val_acc: 0.131000\n",
      "(Epoch 8 / 20) train acc: 0.980000; val_acc: 0.135000\n",
      "(Epoch 9 / 20) train acc: 1.000000; val_acc: 0.132000\n",
      "(Epoch 10 / 20) train acc: 1.000000; val_acc: 0.133000\n",
      "(Iteration 21 / 40) loss: 0.001109\n",
      "(Epoch 11 / 20) train acc: 1.000000; val_acc: 0.133000\n",
      "(Epoch 12 / 20) train acc: 1.000000; val_acc: 0.133000\n",
      "(Epoch 13 / 20) train acc: 1.000000; val_acc: 0.133000\n",
      "(Epoch 14 / 20) train acc: 1.000000; val_acc: 0.133000\n",
      "(Epoch 15 / 20) train acc: 1.000000; val_acc: 0.133000\n",
      "(Iteration 31 / 40) loss: 0.000050\n",
      "(Epoch 16 / 20) train acc: 1.000000; val_acc: 0.133000\n",
      "(Epoch 17 / 20) train acc: 1.000000; val_acc: 0.133000\n",
      "(Epoch 18 / 20) train acc: 1.000000; val_acc: 0.133000\n",
      "(Epoch 19 / 20) train acc: 1.000000; val_acc: 0.133000\n",
      "(Epoch 20 / 20) train acc: 1.000000; val_acc: 0.133000\n"
     ]
    },
    {
     "data": {
      "image/png": "[encoded data removed]",
      "text/plain": [
       "<matplotlib.figure.Figure at 0x7f3147641cc0>"
      ]
     },
     "metadata": {},
     "output_type": "display_data"
    }
   ],
   "source": [
    "# TODO: Use a five-layer Net to overfit 50 training examples.\n",
    "\n",
    "num_train = 50\n",
    "small_data = {\n",
    "  'X_train': data['X_train'][:num_train],\n",
    "  'y_train': data['y_train'][:num_train],\n",
    "  'X_val': data['X_val'],\n",
    "  'y_val': data['y_val'],\n",
    "}\n",
    "\n",
    "learning_rate = 1e-3\n",
    "weight_scale = 1e-1\n",
    "model = FullyConnectedNet([100, 100, 100, 100],\n",
    "                weight_scale=weight_scale, dtype=np.float64)\n",
    "solver = Solver(model, small_data,\n",
    "                print_every=10, num_epochs=20, batch_size=25,\n",
    "                update_rule='sgd',\n",
    "                optim_config={\n",
    "                  'learning_rate': learning_rate,\n",
    "                }\n",
    "         )\n",
    "solver.train()\n",
    "\n",
    "plt.plot(solver.loss_history, 'o')\n",
    "plt.title('Training loss history')\n",
    "plt.xlabel('Iteration')\n",
    "plt.ylabel('Training loss')\n",
    "plt.show()"
   ]
  },
  {
   "cell_type": "markdown",
   "metadata": {
    "deletable": true,
    "editable": true
   },
   "source": [
    "# Inline question: \n",
    "Did you notice anything about the comparative difficulty of training the three-layer net vs training the five layer net?\n",
    "\n",
    "# Answer:\n",
    "In my experiment, for the same learning rate, lr 1e-3, a slight difference in weight scales (0.1 vs 0.2) yields dramatically different training accuracy (1.00 vs 0.08). This suggests that the training of a five layer net is very sensitive to weight scales."
   ]
  },
  {
   "cell_type": "markdown",
   "metadata": {
    "deletable": true,
    "editable": true
   },
   "source": [
    "# Update rules\n",
    "So far we have used vanilla stochastic gradient descent (SGD) as our update rule. More sophisticated update rules can make it easier to train deep networks. We will implement a few of the most commonly used update rules and compare them to vanilla SGD."
   ]
  },
  {
   "cell_type": "markdown",
   "metadata": {
    "deletable": true,
    "editable": true
   },
   "source": [
    "# SGD+Momentum\n",
    "Stochastic gradient descent with momentum is a widely used update rule that tends to make deep networks converge faster than vanilla stochstic gradient descent.\n",
    "\n",
    "Open the file `cs231n/optim.py` and read the documentation at the top of the file to make sure you understand the API. Implement the SGD+momentum update rule in the function `sgd_momentum` and run the following to check your implementation. You should see errors less than 1e-8."
   ]
  },
  {
   "cell_type": "code",
   "execution_count": 108,
   "metadata": {
    "collapsed": false,
    "deletable": true,
    "editable": true
   },
   "outputs": [
    {
     "name": "stdout",
     "output_type": "stream",
     "text": [
      "next_w error:  8.88234703351e-09\n",
      "velocity error:  4.26928774328e-09\n"
     ]
    }
   ],
   "source": [
    "from cs231n.optim import sgd_momentum\n",
    "\n",
    "N, D = 4, 5\n",
    "w = np.linspace(-0.4, 0.6, num=N*D).reshape(N, D)\n",
    "dw = np.linspace(-0.6, 0.4, num=N*D).reshape(N, D)\n",
    "v = np.linspace(0.6, 0.9, num=N*D).reshape(N, D)\n",
    "\n",
    "config = {'learning_rate': 1e-3, 'velocity': v}\n",
    "next_w, _ = sgd_momentum(w, dw, config=config)\n",
    "\n",
    "expected_next_w = np.asarray([\n",
    "  [ 0.1406,      0.20738947,  0.27417895,  0.34096842,  0.40775789],\n",
    "  [ 0.47454737,  0.54133684,  0.60812632,  0.67491579,  0.74170526],\n",
    "  [ 0.80849474,  0.87528421,  0.94207368,  1.00886316,  1.07565263],\n",
    "  [ 1.14244211,  1.20923158,  1.27602105,  1.34281053,  1.4096    ]])\n",
    "expected_velocity = np.asarray([\n",
    "  [ 0.5406,      0.55475789,  0.56891579, 0.58307368,  0.59723158],\n",
    "  [ 0.61138947,  0.62554737,  0.63970526,  0.65386316,  0.66802105],\n",
    "  [ 0.68217895,  0.69633684,  0.71049474,  0.72465263,  0.73881053],\n",
    "  [ 0.75296842,  0.76712632,  0.78128421,  0.79544211,  0.8096    ]])\n",
    "\n",
    "print('next_w error: ', rel_error(next_w, expected_next_w))\n",
    "print('velocity error: ', rel_error(expected_velocity, config['velocity']))"
   ]
  },
  {
   "cell_type": "markdown",
   "metadata": {
    "deletable": true,
    "editable": true
   },
   "source": [
    "Once you have done so, run the following to train a six-layer network with both SGD and SGD+momentum. You should see the SGD+momentum update rule converge faster."
   ]
  },
  {
   "cell_type": "code",
   "execution_count": 109,
   "metadata": {
    "collapsed": false,
    "deletable": true,
    "editable": true,
    "scrolled": false
   },
   "outputs": [
    {
     "name": "stdout",
     "output_type": "stream",
     "text": [
      "running with  sgd\n",
      "(Iteration 1 / 200) loss: 2.794073\n",
      "(Epoch 0 / 5) train acc: 0.084000; val_acc: 0.103000\n",
      "(Iteration 11 / 200) loss: 2.238277\n",
      "(Iteration 21 / 200) loss: 2.113335\n",
      "(Iteration 31 / 200) loss: 2.100198\n",
      "(Epoch 1 / 5) train acc: 0.288000; val_acc: 0.247000\n",
      "(Iteration 41 / 200) loss: 1.899679\n",
      "(Iteration 51 / 200) loss: 1.925164\n",
      "(Iteration 61 / 200) loss: 2.018585\n",
      "(Iteration 71 / 200) loss: 1.795805\n",
      "(Epoch 2 / 5) train acc: 0.336000; val_acc: 0.291000\n",
      "(Iteration 81 / 200) loss: 1.796371\n",
      "(Iteration 91 / 200) loss: 1.911130\n",
      "(Iteration 101 / 200) loss: 1.799326\n",
      "(Iteration 111 / 200) loss: 1.866305\n",
      "(Epoch 3 / 5) train acc: 0.353000; val_acc: 0.302000\n",
      "(Iteration 121 / 200) loss: 1.771554\n",
      "(Iteration 131 / 200) loss: 1.709715\n",
      "(Iteration 141 / 200) loss: 1.931197\n",
      "(Iteration 151 / 200) loss: 1.697612\n",
      "(Epoch 4 / 5) train acc: 0.387000; val_acc: 0.316000\n",
      "(Iteration 161 / 200) loss: 1.663125\n",
      "(Iteration 171 / 200) loss: 1.853666\n",
      "(Iteration 181 / 200) loss: 1.470410\n",
      "(Iteration 191 / 200) loss: 1.695732\n",
      "(Epoch 5 / 5) train acc: 0.391000; val_acc: 0.332000\n",
      "\n",
      "running with  sgd_momentum\n",
      "(Iteration 1 / 200) loss: 2.768482\n",
      "(Epoch 0 / 5) train acc: 0.090000; val_acc: 0.081000\n",
      "(Iteration 11 / 200) loss: 2.099389\n",
      "(Iteration 21 / 200) loss: 2.159292\n",
      "(Iteration 31 / 200) loss: 1.956153\n",
      "(Epoch 1 / 5) train acc: 0.333000; val_acc: 0.286000\n",
      "(Iteration 41 / 200) loss: 1.760750\n",
      "(Iteration 51 / 200) loss: 1.871518\n",
      "(Iteration 61 / 200) loss: 1.927145\n",
      "(Iteration 71 / 200) loss: 1.846493\n",
      "(Epoch 2 / 5) train acc: 0.359000; val_acc: 0.353000\n",
      "(Iteration 81 / 200) loss: 1.792389\n",
      "(Iteration 91 / 200) loss: 1.869960\n",
      "(Iteration 101 / 200) loss: 1.430114\n",
      "(Iteration 111 / 200) loss: 1.591136\n",
      "(Epoch 3 / 5) train acc: 0.443000; val_acc: 0.334000\n",
      "(Iteration 121 / 200) loss: 1.315677\n",
      "(Iteration 131 / 200) loss: 1.434239\n",
      "(Iteration 141 / 200) loss: 1.371191\n",
      "(Iteration 151 / 200) loss: 1.528890\n",
      "(Epoch 4 / 5) train acc: 0.455000; val_acc: 0.383000\n",
      "(Iteration 161 / 200) loss: 1.459287\n",
      "(Iteration 171 / 200) loss: 1.338557\n",
      "(Iteration 181 / 200) loss: 1.477553\n",
      "(Iteration 191 / 200) loss: 1.307194\n",
      "(Epoch 5 / 5) train acc: 0.511000; val_acc: 0.364000\n",
      "\n"
     ]
    },
    {
     "data": {
      "image/png": "[encoded data removed]",
      "text/plain": [
       "<matplotlib.figure.Figure at 0x7f3145b3ae48>"
      ]
     },
     "metadata": {},
     "output_type": "display_data"
    }
   ],
   "source": [
    "num_train = 4000\n",
    "small_data = {\n",
    "  'X_train': data['X_train'][:num_train],\n",
    "  'y_train': data['y_train'][:num_train],\n",
    "  'X_val': data['X_val'],\n",
    "  'y_val': data['y_val'],\n",
    "}\n",
    "\n",
    "solvers = {}\n",
    "\n",
    "for update_rule in ['sgd', 'sgd_momentum']:\n",
    "  print('running with ', update_rule)\n",
    "  model = FullyConnectedNet([100, 100, 100, 100, 100], weight_scale=5e-2)\n",
    "\n",
    "  solver = Solver(model, small_data,\n",
    "                  num_epochs=5, batch_size=100,\n",
    "                  update_rule=update_rule,\n",
    "                  optim_config={\n",
    "                    'learning_rate': 1e-2,\n",
    "                  },\n",
    "                  verbose=True)\n",
    "  solvers[update_rule] = solver\n",
    "  solver.train()\n",
    "  print()\n",
    "\n",
    "plt.subplot(3, 1, 1)\n",
    "plt.title('Training loss')\n",
    "plt.xlabel('Iteration')\n",
    "\n",
    "plt.subplot(3, 1, 2)\n",
    "plt.title('Training accuracy')\n",
    "plt.xlabel('Epoch')\n",
    "\n",
    "plt.subplot(3, 1, 3)\n",
    "plt.title('Validation accuracy')\n",
    "plt.xlabel('Epoch')\n",
    "\n",
    "for update_rule, solver in list(solvers.items()):\n",
    "  plt.subplot(3, 1, 1)\n",
    "  plt.plot(solver.loss_history, 'o', label=update_rule)\n",
    "  \n",
    "  plt.subplot(3, 1, 2)\n",
    "  plt.plot(solver.train_acc_history, '-o', label=update_rule)\n",
    "\n",
    "  plt.subplot(3, 1, 3)\n",
    "  plt.plot(solver.val_acc_history, '-o', label=update_rule)\n",
    "  \n",
    "for i in [1, 2, 3]:\n",
    "  plt.subplot(3, 1, i)\n",
    "  plt.legend(loc='upper center', ncol=4)\n",
    "plt.gcf().set_size_inches(15, 15)\n",
    "plt.show()"
   ]
  },
  {
   "cell_type": "markdown",
   "metadata": {
    "deletable": true,
    "editable": true
   },
   "source": [
    "# RMSProp and Adam\n",
    "RMSProp [1] and Adam [2] are update rules that set per-parameter learning rates by using a running average of the second moments of gradients.\n",
    "\n",
    "In the file `cs231n/optim.py`, implement the RMSProp update rule in the `rmsprop` function and implement the Adam update rule in the `adam` function, and check your implementations using the tests below.\n",
    "\n",
    "[1] Tijmen Tieleman and Geoffrey Hinton. \"Lecture 6.5-rmsprop: Divide the gradient by a running average of its recent magnitude.\" COURSERA: Neural Networks for Machine Learning 4 (2012).\n",
    "\n",
    "[2] Diederik Kingma and Jimmy Ba, \"Adam: A Method for Stochastic Optimization\", ICLR 2015."
   ]
  },
  {
   "cell_type": "code",
   "execution_count": 111,
   "metadata": {
    "collapsed": false,
    "deletable": true,
    "editable": true
   },
   "outputs": [
    {
     "name": "stdout",
     "output_type": "stream",
     "text": [
      "next_w error:  9.52468751104e-08\n",
      "cache error:  2.64779558072e-09\n"
     ]
    }
   ],
   "source": [
    "# Test RMSProp implementation; you should see errors less than 1e-7\n",
    "from cs231n.optim import rmsprop\n",
    "\n",
    "N, D = 4, 5\n",
    "w = np.linspace(-0.4, 0.6, num=N*D).reshape(N, D)\n",
    "dw = np.linspace(-0.6, 0.4, num=N*D).reshape(N, D)\n",
    "cache = np.linspace(0.6, 0.9, num=N*D).reshape(N, D)\n",
    "\n",
    "config = {'learning_rate': 1e-2, 'cache': cache}\n",
    "next_w, _ = rmsprop(w, dw, config=config)\n",
    "\n",
    "expected_next_w = np.asarray([\n",
    "  [-0.39223849, -0.34037513, -0.28849239, -0.23659121, -0.18467247],\n",
    "  [-0.132737,   -0.08078555, -0.02881884,  0.02316247,  0.07515774],\n",
    "  [ 0.12716641,  0.17918792,  0.23122175,  0.28326742,  0.33532447],\n",
    "  [ 0.38739248,  0.43947102,  0.49155973,  0.54365823,  0.59576619]])\n",
    "expected_cache = np.asarray([\n",
    "  [ 0.5976,      0.6126277,   0.6277108,   0.64284931,  0.65804321],\n",
    "  [ 0.67329252,  0.68859723,  0.70395734,  0.71937285,  0.73484377],\n",
    "  [ 0.75037008,  0.7659518,   0.78158892,  0.79728144,  0.81302936],\n",
    "  [ 0.82883269,  0.84469141,  0.86060554,  0.87657507,  0.8926    ]])\n",
    "\n",
    "print('next_w error: ', rel_error(expected_next_w, next_w))\n",
    "print('cache error: ', rel_error(expected_cache, config['cache']))"
   ]
  },
  {
   "cell_type": "code",
   "execution_count": 113,
   "metadata": {
    "collapsed": false,
    "deletable": true,
    "editable": true
   },
   "outputs": [
    {
     "name": "stdout",
     "output_type": "stream",
     "text": [
      "next_w error:  0.00152184517579\n",
      "v error:  4.20831403811e-09\n",
      "m error:  4.21496319311e-09\n"
     ]
    }
   ],
   "source": [
    "# Test Adam implementation; you should see errors around 1e-7 or less\n",
    "from cs231n.optim import adam\n",
    "\n",
    "N, D = 4, 5\n",
    "w = np.linspace(-0.4, 0.6, num=N*D).reshape(N, D)\n",
    "dw = np.linspace(-0.6, 0.4, num=N*D).reshape(N, D)\n",
    "m = np.linspace(0.6, 0.9, num=N*D).reshape(N, D)\n",
    "v = np.linspace(0.7, 0.5, num=N*D).reshape(N, D)\n",
    "\n",
    "config = {'learning_rate': 1e-2, 'm': m, 'v': v, 't': 5}\n",
    "next_w, _ = adam(w, dw, config=config)\n",
    "\n",
    "expected_next_w = np.asarray([\n",
    "  [-0.40094747, -0.34836187, -0.29577703, -0.24319299, -0.19060977],\n",
    "  [-0.1380274,  -0.08544591, -0.03286534,  0.01971428,  0.0722929],\n",
    "  [ 0.1248705,   0.17744702,  0.23002243,  0.28259667,  0.33516969],\n",
    "  [ 0.38774145,  0.44031188,  0.49288093,  0.54544852,  0.59801459]])\n",
    "expected_v = np.asarray([\n",
    "  [ 0.69966,     0.68908382,  0.67851319,  0.66794809,  0.65738853,],\n",
    "  [ 0.64683452,  0.63628604,  0.6257431,   0.61520571,  0.60467385,],\n",
    "  [ 0.59414753,  0.58362676,  0.57311152,  0.56260183,  0.55209767,],\n",
    "  [ 0.54159906,  0.53110598,  0.52061845,  0.51013645,  0.49966,   ]])\n",
    "expected_m = np.asarray([\n",
    "  [ 0.48,        0.49947368,  0.51894737,  0.53842105,  0.55789474],\n",
    "  [ 0.57736842,  0.59684211,  0.61631579,  0.63578947,  0.65526316],\n",
    "  [ 0.67473684,  0.69421053,  0.71368421,  0.73315789,  0.75263158],\n",
    "  [ 0.77210526,  0.79157895,  0.81105263,  0.83052632,  0.85      ]])\n",
    "\n",
    "print('next_w error: ', rel_error(expected_next_w, next_w))\n",
    "print('v error: ', rel_error(expected_v, config['v']))\n",
    "print('m error: ', rel_error(expected_m, config['m']))"
   ]
  },
  {
   "cell_type": "markdown",
   "metadata": {
    "deletable": true,
    "editable": true
   },
   "source": [
    "Once you have debugged your RMSProp and Adam implementations, run the following to train a pair of deep networks using these new update rules:"
   ]
  },
  {
   "cell_type": "code",
   "execution_count": 114,
   "metadata": {
    "collapsed": false,
    "deletable": true,
    "editable": true
   },
   "outputs": [
    {
     "name": "stdout",
     "output_type": "stream",
     "text": [
      "running with  adam\n",
      "(Iteration 1 / 200) loss: 3.183083\n",
      "(Epoch 0 / 5) train acc: 0.136000; val_acc: 0.130000\n",
      "(Iteration 11 / 200) loss: 2.062944\n",
      "(Iteration 21 / 200) loss: 1.873457\n",
      "(Iteration 31 / 200) loss: 2.107394\n",
      "(Epoch 1 / 5) train acc: 0.345000; val_acc: 0.322000\n",
      "(Iteration 41 / 200) loss: 1.789674\n",
      "(Iteration 51 / 200) loss: 1.746028\n",
      "(Iteration 61 / 200) loss: 1.789097\n",
      "(Iteration 71 / 200) loss: 1.812616\n",
      "(Epoch 2 / 5) train acc: 0.452000; val_acc: 0.339000\n",
      "(Iteration 81 / 200) loss: 1.499699\n",
      "(Iteration 91 / 200) loss: 1.605272\n",
      "(Iteration 101 / 200) loss: 1.657962\n",
      "(Iteration 111 / 200) loss: 1.626428\n",
      "(Epoch 3 / 5) train acc: 0.467000; val_acc: 0.351000\n",
      "(Iteration 121 / 200) loss: 1.337396\n",
      "(Iteration 131 / 200) loss: 1.629410\n",
      "(Iteration 141 / 200) loss: 1.282245\n",
      "(Iteration 151 / 200) loss: 1.327009\n",
      "(Epoch 4 / 5) train acc: 0.533000; val_acc: 0.356000\n",
      "(Iteration 161 / 200) loss: 1.231275\n",
      "(Iteration 171 / 200) loss: 1.326559\n",
      "(Iteration 181 / 200) loss: 1.277700\n",
      "(Iteration 191 / 200) loss: 1.316746\n",
      "(Epoch 5 / 5) train acc: 0.585000; val_acc: 0.387000\n",
      "\n",
      "running with  rmsprop\n",
      "(Iteration 1 / 200) loss: 2.750180\n",
      "(Epoch 0 / 5) train acc: 0.146000; val_acc: 0.149000\n",
      "(Iteration 11 / 200) loss: 2.099196\n",
      "(Iteration 21 / 200) loss: 1.997654\n",
      "(Iteration 31 / 200) loss: 1.939165\n",
      "(Epoch 1 / 5) train acc: 0.363000; val_acc: 0.293000\n",
      "(Iteration 41 / 200) loss: 1.772673\n",
      "(Iteration 51 / 200) loss: 1.799482\n",
      "(Iteration 61 / 200) loss: 1.814737\n",
      "(Iteration 71 / 200) loss: 1.734733\n",
      "(Epoch 2 / 5) train acc: 0.431000; val_acc: 0.318000\n",
      "(Iteration 81 / 200) loss: 1.676184\n",
      "(Iteration 91 / 200) loss: 1.600679\n",
      "(Iteration 101 / 200) loss: 1.673735\n",
      "(Iteration 111 / 200) loss: 1.646532\n",
      "(Epoch 3 / 5) train acc: 0.472000; val_acc: 0.354000\n",
      "(Iteration 121 / 200) loss: 1.504689\n",
      "(Iteration 131 / 200) loss: 1.414683\n",
      "(Iteration 141 / 200) loss: 1.679331\n",
      "(Iteration 151 / 200) loss: 1.512505\n",
      "(Epoch 4 / 5) train acc: 0.495000; val_acc: 0.346000\n",
      "(Iteration 161 / 200) loss: 1.425376\n",
      "(Iteration 171 / 200) loss: 1.397151\n",
      "(Iteration 181 / 200) loss: 1.501267\n",
      "(Iteration 191 / 200) loss: 1.243211\n",
      "(Epoch 5 / 5) train acc: 0.506000; val_acc: 0.345000\n",
      "\n"
     ]
    },
    {
     "data": {
      "image/png": "[encoded data removed]",
      "text/plain": [
       "<matplotlib.figure.Figure at 0x7f31459b3198>"
      ]
     },
     "metadata": {},
     "output_type": "display_data"
    }
   ],
   "source": [
    "learning_rates = {'rmsprop': 1e-4, 'adam': 1e-3}\n",
    "for update_rule in ['adam', 'rmsprop']:\n",
    "  print('running with ', update_rule)\n",
    "  model = FullyConnectedNet([100, 100, 100, 100, 100], weight_scale=5e-2)\n",
    "\n",
    "  solver = Solver(model, small_data,\n",
    "                  num_epochs=5, batch_size=100,\n",
    "                  update_rule=update_rule,\n",
    "                  optim_config={\n",
    "                    'learning_rate': learning_rates[update_rule]\n",
    "                  },\n",
    "                  verbose=True)\n",
    "  solvers[update_rule] = solver\n",
    "  solver.train()\n",
    "  print()\n",
    "\n",
    "plt.subplot(3, 1, 1)\n",
    "plt.title('Training loss')\n",
    "plt.xlabel('Iteration')\n",
    "\n",
    "plt.subplot(3, 1, 2)\n",
    "plt.title('Training accuracy')\n",
    "plt.xlabel('Epoch')\n",
    "\n",
    "plt.subplot(3, 1, 3)\n",
    "plt.title('Validation accuracy')\n",
    "plt.xlabel('Epoch')\n",
    "\n",
    "for update_rule, solver in list(solvers.items()):\n",
    "  plt.subplot(3, 1, 1)\n",
    "  plt.plot(solver.loss_history, 'o', label=update_rule)\n",
    "  \n",
    "  plt.subplot(3, 1, 2)\n",
    "  plt.plot(solver.train_acc_history, '-o', label=update_rule)\n",
    "\n",
    "  plt.subplot(3, 1, 3)\n",
    "  plt.plot(solver.val_acc_history, '-o', label=update_rule)\n",
    "  \n",
    "for i in [1, 2, 3]:\n",
    "  plt.subplot(3, 1, i)\n",
    "  plt.legend(loc='upper center', ncol=4)\n",
    "plt.gcf().set_size_inches(15, 15)\n",
    "plt.show()"
   ]
  },
  {
   "cell_type": "markdown",
   "metadata": {
    "deletable": true,
    "editable": true
   },
   "source": [
    "# Train a good model!\n",
    "Train the best fully-connected model that you can on CIFAR-10, storing your best model in the `best_model` variable. We require you to get at least 50% accuracy on the validation set using a fully-connected net.\n",
    "\n",
    "If you are careful it should be possible to get accuracies above 55%, but we don't require it for this part and won't assign extra credit for doing so. Later in the assignment we will ask you to train the best convolutional network that you can on CIFAR-10, and we would prefer that you spend your effort working on convolutional nets rather than fully-connected nets.\n",
    "\n",
    "You might find it useful to complete the `BatchNormalization.ipynb` and `Dropout.ipynb` notebooks before completing this part, since those techniques can help you train powerful models."
   ]
  },
  {
   "cell_type": "code",
   "execution_count": 126,
   "metadata": {
    "collapsed": false,
    "deletable": true,
    "editable": true,
    "scrolled": false
   },
   "outputs": [
    {
     "name": "stdout",
     "output_type": "stream",
     "text": [
      "(Iteration 1 / 4900) loss: 2.590783\n",
      "(Epoch 0 / 10) train acc: 0.103000; val_acc: 0.128000\n",
      "(Iteration 11 / 4900) loss: 2.231063\n",
      "(Iteration 21 / 4900) loss: 1.991189\n",
      "(Iteration 31 / 4900) loss: 1.950269\n",
      "(Iteration 41 / 4900) loss: 1.762460\n",
      "(Iteration 51 / 4900) loss: 1.911449\n",
      "(Iteration 61 / 4900) loss: 1.632349\n",
      "(Iteration 71 / 4900) loss: 1.929705\n",
      "(Iteration 81 / 4900) loss: 1.907075\n",
      "(Iteration 91 / 4900) loss: 2.025807\n",
      "(Iteration 101 / 4900) loss: 1.895342\n",
      "(Iteration 111 / 4900) loss: 1.691237\n",
      "(Iteration 121 / 4900) loss: 1.984546\n",
      "(Iteration 131 / 4900) loss: 1.731842\n",
      "(Iteration 141 / 4900) loss: 1.740405\n",
      "(Iteration 151 / 4900) loss: 1.784227\n",
      "(Iteration 161 / 4900) loss: 1.613631\n",
      "(Iteration 171 / 4900) loss: 1.633120\n",
      "(Iteration 181 / 4900) loss: 1.682407\n",
      "(Iteration 191 / 4900) loss: 1.622064\n",
      "(Iteration 201 / 4900) loss: 1.643696\n",
      "(Iteration 211 / 4900) loss: 1.592802\n",
      "(Iteration 221 / 4900) loss: 1.672952\n",
      "(Iteration 231 / 4900) loss: 1.494374\n",
      "(Iteration 241 / 4900) loss: 1.739324\n",
      "(Iteration 251 / 4900) loss: 1.646023\n",
      "(Iteration 261 / 4900) loss: 1.830968\n",
      "(Iteration 271 / 4900) loss: 1.811983\n",
      "(Iteration 281 / 4900) loss: 1.624584\n",
      "(Iteration 291 / 4900) loss: 1.614134\n",
      "(Iteration 301 / 4900) loss: 1.764331\n",
      "(Iteration 311 / 4900) loss: 1.673407\n",
      "(Iteration 321 / 4900) loss: 1.510096\n",
      "(Iteration 331 / 4900) loss: 1.694216\n",
      "(Iteration 341 / 4900) loss: 1.761184\n",
      "(Iteration 351 / 4900) loss: 1.786130\n",
      "(Iteration 361 / 4900) loss: 1.579190\n",
      "(Iteration 371 / 4900) loss: 1.699016\n",
      "(Iteration 381 / 4900) loss: 1.729552\n",
      "(Iteration 391 / 4900) loss: 1.560695\n",
      "(Iteration 401 / 4900) loss: 1.572963\n",
      "(Iteration 411 / 4900) loss: 1.477559\n",
      "(Iteration 421 / 4900) loss: 2.017473\n",
      "(Iteration 431 / 4900) loss: 1.492113\n",
      "(Iteration 441 / 4900) loss: 1.564054\n",
      "(Iteration 451 / 4900) loss: 1.407366\n",
      "(Iteration 461 / 4900) loss: 1.520796\n",
      "(Iteration 471 / 4900) loss: 1.410785\n",
      "(Iteration 481 / 4900) loss: 1.469246\n",
      "(Epoch 1 / 10) train acc: 0.459000; val_acc: 0.447000\n",
      "(Iteration 491 / 4900) loss: 1.512728\n",
      "(Iteration 501 / 4900) loss: 1.659058\n",
      "(Iteration 511 / 4900) loss: 1.521345\n",
      "(Iteration 521 / 4900) loss: 1.639246\n",
      "(Iteration 531 / 4900) loss: 1.666790\n",
      "(Iteration 541 / 4900) loss: 1.556742\n",
      "(Iteration 551 / 4900) loss: 1.811519\n",
      "(Iteration 561 / 4900) loss: 1.711343\n",
      "(Iteration 571 / 4900) loss: 1.607430\n",
      "(Iteration 581 / 4900) loss: 1.798102\n",
      "(Iteration 591 / 4900) loss: 1.657552\n",
      "(Iteration 601 / 4900) loss: 1.545563\n",
      "(Iteration 611 / 4900) loss: 1.543670\n",
      "(Iteration 621 / 4900) loss: 1.632070\n",
      "(Iteration 631 / 4900) loss: 1.306325\n",
      "(Iteration 641 / 4900) loss: 1.461538\n",
      "(Iteration 651 / 4900) loss: 1.562607\n",
      "(Iteration 661 / 4900) loss: 1.712971\n",
      "(Iteration 671 / 4900) loss: 1.330571\n",
      "(Iteration 681 / 4900) loss: 1.552266\n",
      "(Iteration 691 / 4900) loss: 1.606550\n",
      "(Iteration 701 / 4900) loss: 1.401054\n",
      "(Iteration 711 / 4900) loss: 1.692035\n",
      "(Iteration 721 / 4900) loss: 1.479445\n",
      "(Iteration 731 / 4900) loss: 1.380999\n",
      "(Iteration 741 / 4900) loss: 1.618853\n",
      "(Iteration 751 / 4900) loss: 1.699172\n",
      "(Iteration 761 / 4900) loss: 1.573610\n",
      "(Iteration 771 / 4900) loss: 1.614897\n",
      "(Iteration 781 / 4900) loss: 1.476728\n",
      "(Iteration 791 / 4900) loss: 1.512819\n",
      "(Iteration 801 / 4900) loss: 1.565207\n",
      "(Iteration 811 / 4900) loss: 1.729217\n",
      "(Iteration 821 / 4900) loss: 1.411422\n",
      "(Iteration 831 / 4900) loss: 1.517952\n",
      "(Iteration 841 / 4900) loss: 1.367687\n",
      "(Iteration 851 / 4900) loss: 1.552541\n",
      "(Iteration 861 / 4900) loss: 1.561204\n",
      "(Iteration 871 / 4900) loss: 1.403844\n",
      "(Iteration 881 / 4900) loss: 1.504719\n",
      "(Iteration 891 / 4900) loss: 1.660563\n",
      "(Iteration 901 / 4900) loss: 1.652766\n",
      "(Iteration 911 / 4900) loss: 1.468635\n",
      "(Iteration 921 / 4900) loss: 1.622798\n",
      "(Iteration 931 / 4900) loss: 1.459283\n",
      "(Iteration 941 / 4900) loss: 1.410081\n",
      "(Iteration 951 / 4900) loss: 1.448802\n",
      "(Iteration 961 / 4900) loss: 1.375194\n",
      "(Iteration 971 / 4900) loss: 1.501986\n",
      "(Epoch 2 / 10) train acc: 0.498000; val_acc: 0.461000\n",
      "(Iteration 981 / 4900) loss: 1.459011\n",
      "(Iteration 991 / 4900) loss: 1.540339\n",
      "(Iteration 1001 / 4900) loss: 1.522653\n",
      "(Iteration 1011 / 4900) loss: 1.557045\n",
      "(Iteration 1021 / 4900) loss: 1.399290\n",
      "(Iteration 1031 / 4900) loss: 1.470712\n",
      "(Iteration 1041 / 4900) loss: 1.392840\n",
      "(Iteration 1051 / 4900) loss: 1.324769\n",
      "(Iteration 1061 / 4900) loss: 1.621444\n",
      "(Iteration 1071 / 4900) loss: 1.475050\n",
      "(Iteration 1081 / 4900) loss: 1.470681\n",
      "(Iteration 1091 / 4900) loss: 1.312928\n",
      "(Iteration 1101 / 4900) loss: 1.412948\n",
      "(Iteration 1111 / 4900) loss: 1.429897\n",
      "(Iteration 1121 / 4900) loss: 1.519267\n",
      "(Iteration 1131 / 4900) loss: 1.341351\n",
      "(Iteration 1141 / 4900) loss: 1.553528\n",
      "(Iteration 1151 / 4900) loss: 1.582775\n",
      "(Iteration 1161 / 4900) loss: 1.588799\n",
      "(Iteration 1171 / 4900) loss: 1.314695\n",
      "(Iteration 1181 / 4900) loss: 1.309827\n",
      "(Iteration 1191 / 4900) loss: 1.382603\n",
      "(Iteration 1201 / 4900) loss: 1.292626\n",
      "(Iteration 1211 / 4900) loss: 1.420377\n",
      "(Iteration 1221 / 4900) loss: 1.291844\n",
      "(Iteration 1231 / 4900) loss: 1.395458\n",
      "(Iteration 1241 / 4900) loss: 1.460198\n",
      "(Iteration 1251 / 4900) loss: 1.348232\n",
      "(Iteration 1261 / 4900) loss: 1.222943\n",
      "(Iteration 1271 / 4900) loss: 1.554028\n",
      "(Iteration 1281 / 4900) loss: 1.542529\n",
      "(Iteration 1291 / 4900) loss: 1.347624\n",
      "(Iteration 1301 / 4900) loss: 1.601709\n",
      "(Iteration 1311 / 4900) loss: 1.314548\n",
      "(Iteration 1321 / 4900) loss: 1.404545\n",
      "(Iteration 1331 / 4900) loss: 1.284727\n",
      "(Iteration 1341 / 4900) loss: 1.419002\n",
      "(Iteration 1351 / 4900) loss: 1.396484\n",
      "(Iteration 1361 / 4900) loss: 1.436336\n",
      "(Iteration 1371 / 4900) loss: 1.281694\n",
      "(Iteration 1381 / 4900) loss: 1.283416\n",
      "(Iteration 1391 / 4900) loss: 1.471663\n",
      "(Iteration 1401 / 4900) loss: 1.355808\n",
      "(Iteration 1411 / 4900) loss: 1.512292\n",
      "(Iteration 1421 / 4900) loss: 1.319442\n",
      "(Iteration 1431 / 4900) loss: 1.342796\n",
      "(Iteration 1441 / 4900) loss: 1.196956\n",
      "(Iteration 1451 / 4900) loss: 1.216255\n",
      "(Iteration 1461 / 4900) loss: 1.339264\n",
      "(Epoch 3 / 10) train acc: 0.518000; val_acc: 0.482000\n",
      "(Iteration 1471 / 4900) loss: 1.361938\n",
      "(Iteration 1481 / 4900) loss: 1.377902\n",
      "(Iteration 1491 / 4900) loss: 1.426858\n",
      "(Iteration 1501 / 4900) loss: 1.190637\n",
      "(Iteration 1511 / 4900) loss: 1.643083\n",
      "(Iteration 1521 / 4900) loss: 1.233839\n",
      "(Iteration 1531 / 4900) loss: 1.450716\n",
      "(Iteration 1541 / 4900) loss: 1.327805\n",
      "(Iteration 1551 / 4900) loss: 1.124568\n",
      "(Iteration 1561 / 4900) loss: 1.320270\n",
      "(Iteration 1571 / 4900) loss: 1.457421\n",
      "(Iteration 1581 / 4900) loss: 1.461035\n",
      "(Iteration 1591 / 4900) loss: 1.224097\n",
      "(Iteration 1601 / 4900) loss: 1.250588\n",
      "(Iteration 1611 / 4900) loss: 1.469617\n",
      "(Iteration 1621 / 4900) loss: 1.255452\n",
      "(Iteration 1631 / 4900) loss: 1.439122\n",
      "(Iteration 1641 / 4900) loss: 1.465928\n",
      "(Iteration 1651 / 4900) loss: 1.459458\n",
      "(Iteration 1661 / 4900) loss: 1.413018\n",
      "(Iteration 1671 / 4900) loss: 1.367222\n",
      "(Iteration 1681 / 4900) loss: 1.220089\n",
      "(Iteration 1691 / 4900) loss: 1.261292\n",
      "(Iteration 1701 / 4900) loss: 1.297412\n",
      "(Iteration 1711 / 4900) loss: 1.245972\n",
      "(Iteration 1721 / 4900) loss: 1.598170\n",
      "(Iteration 1731 / 4900) loss: 1.331543\n",
      "(Iteration 1741 / 4900) loss: 1.287626\n",
      "(Iteration 1751 / 4900) loss: 1.195773\n",
      "(Iteration 1761 / 4900) loss: 1.498205\n",
      "(Iteration 1771 / 4900) loss: 1.391048\n",
      "(Iteration 1781 / 4900) loss: 1.433510\n",
      "(Iteration 1791 / 4900) loss: 1.331725\n",
      "(Iteration 1801 / 4900) loss: 1.475471\n",
      "(Iteration 1811 / 4900) loss: 1.473397\n",
      "(Iteration 1821 / 4900) loss: 1.368622\n",
      "(Iteration 1831 / 4900) loss: 1.230080\n",
      "(Iteration 1841 / 4900) loss: 1.448576\n",
      "(Iteration 1851 / 4900) loss: 1.343933\n",
      "(Iteration 1861 / 4900) loss: 1.404029\n",
      "(Iteration 1871 / 4900) loss: 1.360009\n",
      "(Iteration 1881 / 4900) loss: 1.288180\n",
      "(Iteration 1891 / 4900) loss: 1.279628\n",
      "(Iteration 1901 / 4900) loss: 1.397175\n",
      "(Iteration 1911 / 4900) loss: 1.178606\n",
      "(Iteration 1921 / 4900) loss: 1.358702\n",
      "(Iteration 1931 / 4900) loss: 1.401971\n",
      "(Iteration 1941 / 4900) loss: 1.493662\n",
      "(Iteration 1951 / 4900) loss: 1.462884\n",
      "(Epoch 4 / 10) train acc: 0.509000; val_acc: 0.492000\n",
      "(Iteration 1961 / 4900) loss: 1.528382\n",
      "(Iteration 1971 / 4900) loss: 1.185628\n",
      "(Iteration 1981 / 4900) loss: 1.288141\n",
      "(Iteration 1991 / 4900) loss: 1.218182\n",
      "(Iteration 2001 / 4900) loss: 1.364509\n",
      "(Iteration 2011 / 4900) loss: 1.407130\n",
      "(Iteration 2021 / 4900) loss: 1.203028\n",
      "(Iteration 2031 / 4900) loss: 1.163703\n",
      "(Iteration 2041 / 4900) loss: 1.367318\n",
      "(Iteration 2051 / 4900) loss: 1.258380\n",
      "(Iteration 2061 / 4900) loss: 1.192472\n",
      "(Iteration 2071 / 4900) loss: 1.422041\n",
      "(Iteration 2081 / 4900) loss: 1.217464\n",
      "(Iteration 2091 / 4900) loss: 1.400316\n",
      "(Iteration 2101 / 4900) loss: 1.342199\n",
      "(Iteration 2111 / 4900) loss: 1.215228\n",
      "(Iteration 2121 / 4900) loss: 1.131393\n",
      "(Iteration 2131 / 4900) loss: 1.371776\n",
      "(Iteration 2141 / 4900) loss: 1.203214\n",
      "(Iteration 2151 / 4900) loss: 1.262555\n",
      "(Iteration 2161 / 4900) loss: 1.437475\n",
      "(Iteration 2171 / 4900) loss: 1.233009\n",
      "(Iteration 2181 / 4900) loss: 1.294194\n",
      "(Iteration 2191 / 4900) loss: 1.198817\n",
      "(Iteration 2201 / 4900) loss: 1.381015\n",
      "(Iteration 2211 / 4900) loss: 1.234645\n",
      "(Iteration 2221 / 4900) loss: 1.564894\n",
      "(Iteration 2231 / 4900) loss: 1.528303\n",
      "(Iteration 2241 / 4900) loss: 1.163939\n",
      "(Iteration 2251 / 4900) loss: 1.381100\n",
      "(Iteration 2261 / 4900) loss: 1.137919\n",
      "(Iteration 2271 / 4900) loss: 1.445228\n",
      "(Iteration 2281 / 4900) loss: 1.106527\n",
      "(Iteration 2291 / 4900) loss: 1.205609\n",
      "(Iteration 2301 / 4900) loss: 1.192574\n",
      "(Iteration 2311 / 4900) loss: 1.203179\n",
      "(Iteration 2321 / 4900) loss: 1.150614\n",
      "(Iteration 2331 / 4900) loss: 1.318748\n",
      "(Iteration 2341 / 4900) loss: 1.327476\n",
      "(Iteration 2351 / 4900) loss: 1.346122\n",
      "(Iteration 2361 / 4900) loss: 1.236761\n",
      "(Iteration 2371 / 4900) loss: 1.148133\n",
      "(Iteration 2381 / 4900) loss: 1.309971\n",
      "(Iteration 2391 / 4900) loss: 1.335186\n",
      "(Iteration 2401 / 4900) loss: 1.217615\n",
      "(Iteration 2411 / 4900) loss: 1.158378\n",
      "(Iteration 2421 / 4900) loss: 1.313727\n",
      "(Iteration 2431 / 4900) loss: 1.411409\n",
      "(Iteration 2441 / 4900) loss: 1.188804\n",
      "(Epoch 5 / 10) train acc: 0.535000; val_acc: 0.494000\n",
      "(Iteration 2451 / 4900) loss: 1.254083\n",
      "(Iteration 2461 / 4900) loss: 1.408593\n",
      "(Iteration 2471 / 4900) loss: 1.309495\n",
      "(Iteration 2481 / 4900) loss: 1.344455\n",
      "(Iteration 2491 / 4900) loss: 1.453470\n",
      "(Iteration 2501 / 4900) loss: 1.309834\n",
      "(Iteration 2511 / 4900) loss: 1.370672\n",
      "(Iteration 2521 / 4900) loss: 1.459801\n",
      "(Iteration 2531 / 4900) loss: 1.425325\n",
      "(Iteration 2541 / 4900) loss: 1.299303\n",
      "(Iteration 2551 / 4900) loss: 1.097470\n",
      "(Iteration 2561 / 4900) loss: 1.449208\n",
      "(Iteration 2571 / 4900) loss: 1.421994\n",
      "(Iteration 2581 / 4900) loss: 1.479153\n",
      "(Iteration 2591 / 4900) loss: 1.263371\n",
      "(Iteration 2601 / 4900) loss: 1.081812\n",
      "(Iteration 2611 / 4900) loss: 1.194507\n",
      "(Iteration 2621 / 4900) loss: 1.433398\n",
      "(Iteration 2631 / 4900) loss: 1.419591\n",
      "(Iteration 2641 / 4900) loss: 1.283215\n",
      "(Iteration 2651 / 4900) loss: 1.135045\n",
      "(Iteration 2661 / 4900) loss: 1.364039\n",
      "(Iteration 2671 / 4900) loss: 1.441713\n",
      "(Iteration 2681 / 4900) loss: 1.556733\n",
      "(Iteration 2691 / 4900) loss: 1.131281\n",
      "(Iteration 2701 / 4900) loss: 1.232244\n",
      "(Iteration 2711 / 4900) loss: 1.162517\n",
      "(Iteration 2721 / 4900) loss: 1.185039\n",
      "(Iteration 2731 / 4900) loss: 1.489074\n",
      "(Iteration 2741 / 4900) loss: 1.128914\n",
      "(Iteration 2751 / 4900) loss: 1.122287\n",
      "(Iteration 2761 / 4900) loss: 1.141370\n",
      "(Iteration 2771 / 4900) loss: 1.181852\n",
      "(Iteration 2781 / 4900) loss: 1.500859\n",
      "(Iteration 2791 / 4900) loss: 1.240181\n",
      "(Iteration 2801 / 4900) loss: 1.472132\n",
      "(Iteration 2811 / 4900) loss: 1.346769\n",
      "(Iteration 2821 / 4900) loss: 1.283965\n",
      "(Iteration 2831 / 4900) loss: 1.309240\n",
      "(Iteration 2841 / 4900) loss: 1.092873\n",
      "(Iteration 2851 / 4900) loss: 1.181111\n",
      "(Iteration 2861 / 4900) loss: 1.298942\n",
      "(Iteration 2871 / 4900) loss: 1.291286\n",
      "(Iteration 2881 / 4900) loss: 1.199482\n",
      "(Iteration 2891 / 4900) loss: 1.131862\n",
      "(Iteration 2901 / 4900) loss: 1.218279\n",
      "(Iteration 2911 / 4900) loss: 1.077625\n",
      "(Iteration 2921 / 4900) loss: 1.103850\n",
      "(Iteration 2931 / 4900) loss: 1.266981\n",
      "(Epoch 6 / 10) train acc: 0.565000; val_acc: 0.475000\n",
      "(Iteration 2941 / 4900) loss: 1.038247\n",
      "(Iteration 2951 / 4900) loss: 1.100959\n",
      "(Iteration 2961 / 4900) loss: 1.244074\n",
      "(Iteration 2971 / 4900) loss: 1.277935\n",
      "(Iteration 2981 / 4900) loss: 1.217889\n",
      "(Iteration 2991 / 4900) loss: 1.168299\n",
      "(Iteration 3001 / 4900) loss: 1.267621\n",
      "(Iteration 3011 / 4900) loss: 1.218071\n",
      "(Iteration 3021 / 4900) loss: 1.083277\n",
      "(Iteration 3031 / 4900) loss: 1.301457\n",
      "(Iteration 3041 / 4900) loss: 1.179153\n",
      "(Iteration 3051 / 4900) loss: 1.371823\n",
      "(Iteration 3061 / 4900) loss: 1.149615\n",
      "(Iteration 3071 / 4900) loss: 1.075945\n",
      "(Iteration 3081 / 4900) loss: 1.293539\n",
      "(Iteration 3091 / 4900) loss: 1.362657\n",
      "(Iteration 3101 / 4900) loss: 1.234215\n",
      "(Iteration 3111 / 4900) loss: 1.190982\n",
      "(Iteration 3121 / 4900) loss: 1.347815\n",
      "(Iteration 3131 / 4900) loss: 1.249012\n",
      "(Iteration 3141 / 4900) loss: 1.248121\n",
      "(Iteration 3151 / 4900) loss: 1.123937\n",
      "(Iteration 3161 / 4900) loss: 1.135532\n",
      "(Iteration 3171 / 4900) loss: 1.307774\n",
      "(Iteration 3181 / 4900) loss: 1.226343\n",
      "(Iteration 3191 / 4900) loss: 1.194448\n",
      "(Iteration 3201 / 4900) loss: 1.244961\n",
      "(Iteration 3211 / 4900) loss: 1.261410\n",
      "(Iteration 3221 / 4900) loss: 1.084566\n",
      "(Iteration 3231 / 4900) loss: 1.234956\n",
      "(Iteration 3241 / 4900) loss: 1.367757\n",
      "(Iteration 3251 / 4900) loss: 1.186154\n",
      "(Iteration 3261 / 4900) loss: 1.152041\n",
      "(Iteration 3271 / 4900) loss: 1.108927\n",
      "(Iteration 3281 / 4900) loss: 1.154887\n",
      "(Iteration 3291 / 4900) loss: 1.039066\n",
      "(Iteration 3301 / 4900) loss: 1.115609\n",
      "(Iteration 3311 / 4900) loss: 1.126572\n",
      "(Iteration 3321 / 4900) loss: 1.138954\n",
      "(Iteration 3331 / 4900) loss: 1.225408\n",
      "(Iteration 3341 / 4900) loss: 1.472577\n",
      "(Iteration 3351 / 4900) loss: 1.155548\n",
      "(Iteration 3361 / 4900) loss: 1.263149\n",
      "(Iteration 3371 / 4900) loss: 1.422022\n",
      "(Iteration 3381 / 4900) loss: 1.172539\n",
      "(Iteration 3391 / 4900) loss: 1.182607\n",
      "(Iteration 3401 / 4900) loss: 1.139605\n",
      "(Iteration 3411 / 4900) loss: 1.243623\n",
      "(Iteration 3421 / 4900) loss: 1.223836\n",
      "(Epoch 7 / 10) train acc: 0.552000; val_acc: 0.506000\n",
      "(Iteration 3431 / 4900) loss: 1.122732\n",
      "(Iteration 3441 / 4900) loss: 1.265077\n",
      "(Iteration 3451 / 4900) loss: 1.248596\n",
      "(Iteration 3461 / 4900) loss: 1.268454\n",
      "(Iteration 3471 / 4900) loss: 1.164613\n",
      "(Iteration 3481 / 4900) loss: 1.084350\n",
      "(Iteration 3491 / 4900) loss: 1.089452\n",
      "(Iteration 3501 / 4900) loss: 1.179277\n",
      "(Iteration 3511 / 4900) loss: 1.354485\n",
      "(Iteration 3521 / 4900) loss: 1.273168\n",
      "(Iteration 3531 / 4900) loss: 1.177827\n",
      "(Iteration 3541 / 4900) loss: 1.161189\n",
      "(Iteration 3551 / 4900) loss: 1.281301\n",
      "(Iteration 3561 / 4900) loss: 1.068861\n",
      "(Iteration 3571 / 4900) loss: 1.314208\n",
      "(Iteration 3581 / 4900) loss: 1.282777\n",
      "(Iteration 3591 / 4900) loss: 1.372237\n",
      "(Iteration 3601 / 4900) loss: 1.138157\n",
      "(Iteration 3611 / 4900) loss: 1.330501\n",
      "(Iteration 3621 / 4900) loss: 1.058891\n",
      "(Iteration 3631 / 4900) loss: 1.106582\n",
      "(Iteration 3641 / 4900) loss: 1.324327\n",
      "(Iteration 3651 / 4900) loss: 1.126955\n",
      "(Iteration 3661 / 4900) loss: 1.283478\n",
      "(Iteration 3671 / 4900) loss: 1.171503\n",
      "(Iteration 3681 / 4900) loss: 1.284790\n",
      "(Iteration 3691 / 4900) loss: 1.276741\n",
      "(Iteration 3701 / 4900) loss: 1.060295\n",
      "(Iteration 3711 / 4900) loss: 1.316797\n",
      "(Iteration 3721 / 4900) loss: 1.286762\n",
      "(Iteration 3731 / 4900) loss: 1.171311\n",
      "(Iteration 3741 / 4900) loss: 1.110327\n",
      "(Iteration 3751 / 4900) loss: 1.207362\n",
      "(Iteration 3761 / 4900) loss: 1.222322\n",
      "(Iteration 3771 / 4900) loss: 0.961758\n",
      "(Iteration 3781 / 4900) loss: 1.184142\n",
      "(Iteration 3791 / 4900) loss: 1.001739\n",
      "(Iteration 3801 / 4900) loss: 1.317285\n",
      "(Iteration 3811 / 4900) loss: 1.213405\n",
      "(Iteration 3821 / 4900) loss: 1.214706\n",
      "(Iteration 3831 / 4900) loss: 1.185199\n",
      "(Iteration 3841 / 4900) loss: 0.951588\n",
      "(Iteration 3851 / 4900) loss: 1.127992\n",
      "(Iteration 3861 / 4900) loss: 1.132121\n",
      "(Iteration 3871 / 4900) loss: 1.280466\n",
      "(Iteration 3881 / 4900) loss: 1.008666\n",
      "(Iteration 3891 / 4900) loss: 1.359205\n",
      "(Iteration 3901 / 4900) loss: 1.089370\n",
      "(Iteration 3911 / 4900) loss: 1.141267\n",
      "(Epoch 8 / 10) train acc: 0.589000; val_acc: 0.514000\n",
      "(Iteration 3921 / 4900) loss: 1.438651\n",
      "(Iteration 3931 / 4900) loss: 1.290763\n",
      "(Iteration 3941 / 4900) loss: 1.133230\n",
      "(Iteration 3951 / 4900) loss: 1.042885\n",
      "(Iteration 3961 / 4900) loss: 1.055209\n",
      "(Iteration 3971 / 4900) loss: 1.065956\n",
      "(Iteration 3981 / 4900) loss: 0.993753\n",
      "(Iteration 3991 / 4900) loss: 1.106259\n",
      "(Iteration 4001 / 4900) loss: 1.179077\n",
      "(Iteration 4011 / 4900) loss: 1.328010\n",
      "(Iteration 4021 / 4900) loss: 1.256428\n",
      "(Iteration 4031 / 4900) loss: 1.324664\n",
      "(Iteration 4041 / 4900) loss: 1.198764\n",
      "(Iteration 4051 / 4900) loss: 1.185024\n",
      "(Iteration 4061 / 4900) loss: 1.285547\n",
      "(Iteration 4071 / 4900) loss: 1.084918\n",
      "(Iteration 4081 / 4900) loss: 1.197281\n",
      "(Iteration 4091 / 4900) loss: 1.153038\n",
      "(Iteration 4101 / 4900) loss: 1.097629\n",
      "(Iteration 4111 / 4900) loss: 1.082140\n",
      "(Iteration 4121 / 4900) loss: 1.094649\n",
      "(Iteration 4131 / 4900) loss: 1.043085\n",
      "(Iteration 4141 / 4900) loss: 1.037079\n",
      "(Iteration 4151 / 4900) loss: 1.001598\n",
      "(Iteration 4161 / 4900) loss: 1.079045\n",
      "(Iteration 4171 / 4900) loss: 1.321602\n",
      "(Iteration 4181 / 4900) loss: 1.012736\n",
      "(Iteration 4191 / 4900) loss: 1.152048\n",
      "(Iteration 4201 / 4900) loss: 1.136445\n",
      "(Iteration 4211 / 4900) loss: 1.066603\n",
      "(Iteration 4221 / 4900) loss: 1.031720\n",
      "(Iteration 4231 / 4900) loss: 1.227564\n",
      "(Iteration 4241 / 4900) loss: 1.198892\n",
      "(Iteration 4251 / 4900) loss: 1.170664\n",
      "(Iteration 4261 / 4900) loss: 1.107228\n",
      "(Iteration 4271 / 4900) loss: 1.119536\n",
      "(Iteration 4281 / 4900) loss: 0.875102\n",
      "(Iteration 4291 / 4900) loss: 1.005270\n",
      "(Iteration 4301 / 4900) loss: 1.217876\n",
      "(Iteration 4311 / 4900) loss: 1.174691\n",
      "(Iteration 4321 / 4900) loss: 1.254722\n",
      "(Iteration 4331 / 4900) loss: 1.100499\n",
      "(Iteration 4341 / 4900) loss: 1.441122\n",
      "(Iteration 4351 / 4900) loss: 1.200877\n",
      "(Iteration 4361 / 4900) loss: 1.343806\n",
      "(Iteration 4371 / 4900) loss: 1.195340\n",
      "(Iteration 4381 / 4900) loss: 1.127663\n",
      "(Iteration 4391 / 4900) loss: 1.299628\n",
      "(Iteration 4401 / 4900) loss: 1.069249\n",
      "(Epoch 9 / 10) train acc: 0.592000; val_acc: 0.516000\n",
      "(Iteration 4411 / 4900) loss: 1.245756\n",
      "(Iteration 4421 / 4900) loss: 1.276399\n",
      "(Iteration 4431 / 4900) loss: 1.172589\n",
      "(Iteration 4441 / 4900) loss: 1.211557\n",
      "(Iteration 4451 / 4900) loss: 1.299384\n",
      "(Iteration 4461 / 4900) loss: 1.130715\n",
      "(Iteration 4471 / 4900) loss: 1.295373\n",
      "(Iteration 4481 / 4900) loss: 1.122985\n",
      "(Iteration 4491 / 4900) loss: 1.369725\n",
      "(Iteration 4501 / 4900) loss: 0.996470\n",
      "(Iteration 4511 / 4900) loss: 0.967963\n",
      "(Iteration 4521 / 4900) loss: 1.125770\n",
      "(Iteration 4531 / 4900) loss: 1.009279\n",
      "(Iteration 4541 / 4900) loss: 1.039501\n",
      "(Iteration 4551 / 4900) loss: 1.099729\n",
      "(Iteration 4561 / 4900) loss: 0.844684\n",
      "(Iteration 4571 / 4900) loss: 1.165282\n",
      "(Iteration 4581 / 4900) loss: 1.056969\n",
      "(Iteration 4591 / 4900) loss: 1.107775\n",
      "(Iteration 4601 / 4900) loss: 1.224621\n",
      "(Iteration 4611 / 4900) loss: 1.059126\n",
      "(Iteration 4621 / 4900) loss: 1.294347\n",
      "(Iteration 4631 / 4900) loss: 1.132468\n",
      "(Iteration 4641 / 4900) loss: 1.116096\n",
      "(Iteration 4651 / 4900) loss: 1.221055\n",
      "(Iteration 4661 / 4900) loss: 1.311133\n",
      "(Iteration 4671 / 4900) loss: 1.032764\n",
      "(Iteration 4681 / 4900) loss: 1.054373\n",
      "(Iteration 4691 / 4900) loss: 1.239689\n",
      "(Iteration 4701 / 4900) loss: 1.091152\n",
      "(Iteration 4711 / 4900) loss: 1.296751\n",
      "(Iteration 4721 / 4900) loss: 1.120229\n",
      "(Iteration 4731 / 4900) loss: 0.962047\n",
      "(Iteration 4741 / 4900) loss: 1.225502\n",
      "(Iteration 4751 / 4900) loss: 1.039666\n",
      "(Iteration 4761 / 4900) loss: 1.159214\n",
      "(Iteration 4771 / 4900) loss: 0.966130\n",
      "(Iteration 4781 / 4900) loss: 1.155696\n",
      "(Iteration 4791 / 4900) loss: 0.935227\n",
      "(Iteration 4801 / 4900) loss: 1.157787\n",
      "(Iteration 4811 / 4900) loss: 1.137752\n",
      "(Iteration 4821 / 4900) loss: 1.161134\n",
      "(Iteration 4831 / 4900) loss: 0.962320\n",
      "(Iteration 4841 / 4900) loss: 1.323396\n",
      "(Iteration 4851 / 4900) loss: 1.182022\n",
      "(Iteration 4861 / 4900) loss: 1.030994\n",
      "(Iteration 4871 / 4900) loss: 0.958470\n",
      "(Iteration 4881 / 4900) loss: 1.172183\n",
      "(Iteration 4891 / 4900) loss: 1.203686\n",
      "(Epoch 10 / 10) train acc: 0.600000; val_acc: 0.511000\n"
     ]
    }
   ],
   "source": [
    "best_model = None\n",
    "################################################################################\n",
    "# TODO: Train the best FullyConnectedNet that you can on CIFAR-10. You might   #\n",
    "# batch normalization and dropout useful. Store your best model in the         #\n",
    "# best_model variable.                                                         #\n",
    "################################################################################\n",
    "model = FullyConnectedNet([100, 100, 100, 100, 100], weight_scale=5e-2)\n",
    "solver = Solver(model, data,\n",
    "              num_epochs=10, batch_size=100,\n",
    "              update_rule='adam',\n",
    "              optim_config={\n",
    "                'learning_rate': 1e-3\n",
    "              },\n",
    "              verbose=True)\n",
    "solver.train()\n",
    "################################################################################\n",
    "#                              END OF YOUR CODE                                #\n",
    "################################################################################"
   ]
  },
  {
   "cell_type": "code",
   "execution_count": 127,
   "metadata": {
    "collapsed": true
   },
   "outputs": [],
   "source": [
    "best_model = model"
   ]
  },
  {
   "cell_type": "markdown",
   "metadata": {
    "deletable": true,
    "editable": true
   },
   "source": [
    "# Test you model\n",
    "Run your best model on the validation and test sets. You should achieve above 50% accuracy on the validation set."
   ]
  },
  {
   "cell_type": "code",
   "execution_count": 128,
   "metadata": {
    "collapsed": false,
    "deletable": true,
    "editable": true
   },
   "outputs": [
    {
     "name": "stdout",
     "output_type": "stream",
     "text": [
      "Validation set accuracy:  0.516\n",
      "Test set accuracy:  0.514\n"
     ]
    }
   ],
   "source": [
    "y_test_pred = np.argmax(best_model.loss(data['X_test']), axis=1)\n",
    "y_val_pred = np.argmax(best_model.loss(data['X_val']), axis=1)\n",
    "print('Validation set accuracy: ', (y_val_pred == data['y_val']).mean())\n",
    "print('Test set accuracy: ', (y_test_pred == data['y_test']).mean())"
   ]
  }
 ],
 "metadata": {
  "kernelspec": {
   "display_name": "Python 3",
   "language": "python",
   "name": "python3"
  },
  "language_info": {
   "codemirror_mode": {
    "name": "ipython",
    "version": 3
   },
   "file_extension": ".py",
   "mimetype": "text/x-python",
   "name": "python",
   "nbconvert_exporter": "python",
   "pygments_lexer": "ipython3",
   "version": "3.5.2"
  },
  "varInspector": {
   "cols": {
    "lenName": 16,
    "lenType": 16,
    "lenVar": 40
   },
   "kernels_config": {
    "python": {
     "delete_cmd_postfix": "",
     "delete_cmd_prefix": "del ",
     "library": "var_list.py",
     "varRefreshCmd": "print(var_dic_list())"
    },
    "r": {
     "delete_cmd_postfix": ") ",
     "delete_cmd_prefix": "rm(",
     "library": "var_list.r",
     "varRefreshCmd": "cat(var_dic_list()) "
    }
   },
   "types_to_exclude": [
    "module",
    "function",
    "builtin_function_or_method",
    "instance",
    "_Feature"
   ],
   "window_display": false
  }
 },
 "nbformat": 4,
 "nbformat_minor": 0
}
