{
 "cells": [
  {
   "cell_type": "markdown",
   "metadata": {},
   "source": [
    "# Softmax exercise\n",
    "\n",
    "*Complete and hand in this completed worksheet (including its outputs and any supporting code outside of the worksheet) with your assignment submission. For more details see the [assignments page](http://vision.stanford.edu/teaching/cs231n/assignments.html) on the course website.*\n",
    "\n",
    "This exercise is analogous to the SVM exercise. You will:\n",
    "\n",
    "- implement a fully-vectorized **loss function** for the Softmax classifier\n",
    "- implement the fully-vectorized expression for its **analytic gradient**\n",
    "- **check your implementation** with numerical gradient\n",
    "- use a validation set to **tune the learning rate and regularization** strength\n",
    "- **optimize** the loss function with **SGD**\n",
    "- **visualize** the final learned weights\n"
   ]
  },
  {
   "cell_type": "code",
   "execution_count": 1,
   "metadata": {
    "collapsed": false
   },
   "outputs": [],
   "source": [
    "import random\n",
    "import numpy as np\n",
    "from cs231n.data_utils import load_CIFAR10\n",
    "import matplotlib.pyplot as plt\n",
    "\n",
    "from __future__ import print_function\n",
    "\n",
    "%matplotlib inline\n",
    "plt.rcParams['figure.figsize'] = (10.0, 8.0) # set default size of plots\n",
    "plt.rcParams['image.interpolation'] = 'nearest'\n",
    "plt.rcParams['image.cmap'] = 'gray'\n",
    "\n",
    "# for auto-reloading extenrnal modules\n",
    "# see http://stackoverflow.com/questions/1907993/autoreload-of-modules-in-ipython\n",
    "%load_ext autoreload\n",
    "%autoreload 2"
   ]
  },
  {
   "cell_type": "code",
   "execution_count": 2,
   "metadata": {
    "collapsed": false
   },
   "outputs": [
    {
     "name": "stdout",
     "output_type": "stream",
     "text": [
      "Train data shape:  (49000, 3073)\n",
      "Train labels shape:  (49000,)\n",
      "Validation data shape:  (1000, 3073)\n",
      "Validation labels shape:  (1000,)\n",
      "Test data shape:  (1000, 3073)\n",
      "Test labels shape:  (1000,)\n",
      "dev data shape:  (500, 3073)\n",
      "dev labels shape:  (500,)\n"
     ]
    }
   ],
   "source": [
    "def get_CIFAR10_data(num_training=49000, num_validation=1000, num_test=1000, num_dev=500):\n",
    "    \"\"\"\n",
    "    Load the CIFAR-10 dataset from disk and perform preprocessing to prepare\n",
    "    it for the linear classifier. These are the same steps as we used for the\n",
    "    SVM, but condensed to a single function.  \n",
    "    \"\"\"\n",
    "    # Load the raw CIFAR-10 data\n",
    "    cifar10_dir = 'cs231n/datasets/cifar-10-batches-py'\n",
    "    X_train, y_train, X_test, y_test = load_CIFAR10(cifar10_dir)\n",
    "    \n",
    "    # subsample the data\n",
    "    mask = list(range(num_training, num_training + num_validation))\n",
    "    X_val = X_train[mask]\n",
    "    y_val = y_train[mask]\n",
    "    mask = list(range(num_training))\n",
    "    X_train = X_train[mask]\n",
    "    y_train = y_train[mask]\n",
    "    mask = list(range(num_test))\n",
    "    X_test = X_test[mask]\n",
    "    y_test = y_test[mask]\n",
    "    mask = np.random.choice(num_training, num_dev, replace=False)\n",
    "    X_dev = X_train[mask]\n",
    "    y_dev = y_train[mask]\n",
    "    \n",
    "    # Preprocessing: reshape the image data into rows\n",
    "    X_train = np.reshape(X_train, (X_train.shape[0], -1))\n",
    "    X_val = np.reshape(X_val, (X_val.shape[0], -1))\n",
    "    X_test = np.reshape(X_test, (X_test.shape[0], -1))\n",
    "    X_dev = np.reshape(X_dev, (X_dev.shape[0], -1))\n",
    "    \n",
    "    # Normalize the data: subtract the mean image\n",
    "    mean_image = np.mean(X_train, axis = 0)\n",
    "    X_train -= mean_image\n",
    "    X_val -= mean_image\n",
    "    X_test -= mean_image\n",
    "    X_dev -= mean_image\n",
    "    \n",
    "    # add bias dimension and transform into columns\n",
    "    X_train = np.hstack([X_train, np.ones((X_train.shape[0], 1))])\n",
    "    X_val = np.hstack([X_val, np.ones((X_val.shape[0], 1))])\n",
    "    X_test = np.hstack([X_test, np.ones((X_test.shape[0], 1))])\n",
    "    X_dev = np.hstack([X_dev, np.ones((X_dev.shape[0], 1))])\n",
    "    \n",
    "    return X_train, y_train, X_val, y_val, X_test, y_test, X_dev, y_dev\n",
    "\n",
    "\n",
    "# Invoke the above function to get our data.\n",
    "X_train, y_train, X_val, y_val, X_test, y_test, X_dev, y_dev = get_CIFAR10_data()\n",
    "print('Train data shape: ', X_train.shape)\n",
    "print('Train labels shape: ', y_train.shape)\n",
    "print('Validation data shape: ', X_val.shape)\n",
    "print('Validation labels shape: ', y_val.shape)\n",
    "print('Test data shape: ', X_test.shape)\n",
    "print('Test labels shape: ', y_test.shape)\n",
    "print('dev data shape: ', X_dev.shape)\n",
    "print('dev labels shape: ', y_dev.shape)"
   ]
  },
  {
   "cell_type": "markdown",
   "metadata": {},
   "source": [
    "## Softmax Classifier\n",
    "\n",
    "Your code for this section will all be written inside **cs231n/classifiers/softmax.py**. \n"
   ]
  },
  {
   "cell_type": "code",
   "execution_count": 3,
   "metadata": {
    "collapsed": false
   },
   "outputs": [
    {
     "name": "stdout",
     "output_type": "stream",
     "text": [
      "loss: 2.337688\n",
      "sanity check: 2.302585\n"
     ]
    }
   ],
   "source": [
    "# First implement the naive softmax loss function with nested loops.\n",
    "# Open the file cs231n/classifiers/softmax.py and implement the\n",
    "# softmax_loss_naive function.\n",
    "\n",
    "from cs231n.classifiers.softmax import softmax_loss_naive\n",
    "import time\n",
    "\n",
    "# Generate a random softmax weight matrix and use it to compute the loss.\n",
    "W = np.random.randn(3073, 10) * 0.0001\n",
    "loss, grad = softmax_loss_naive(W, X_dev, y_dev, 0.0)\n",
    "\n",
    "# As a rough sanity check, our loss should be something close to -log(0.1).\n",
    "print('loss: %f' % loss)\n",
    "print('sanity check: %f' % (-np.log(0.1)))"
   ]
  },
  {
   "cell_type": "markdown",
   "metadata": {},
   "source": [
    "## Inline Question 1:\n",
    "Why do we expect our loss to be close to -log(0.1)? Explain briefly.**\n",
    "\n",
    "**Your answer:** *At the start of training, all weights are initialized to small random numbers and are roughly equal. As a result, softmax probabilities of all classes are roughly equal as well (~0.1). So average loss should be -log(0.1)*\n"
   ]
  },
  {
   "cell_type": "code",
   "execution_count": 5,
   "metadata": {
    "collapsed": false
   },
   "outputs": [
    {
     "name": "stdout",
     "output_type": "stream",
     "text": [
      "numerical: -2.692058 analytic: -2.692058, relative error: 3.239349e-09\n",
      "numerical: -1.137243 analytic: -1.137243, relative error: 3.044900e-08\n",
      "numerical: -0.940054 analytic: -0.940054, relative error: 2.583185e-08\n",
      "numerical: 2.626268 analytic: 2.626268, relative error: 3.719235e-10\n",
      "numerical: -1.638379 analytic: -1.638379, relative error: 9.393130e-10\n",
      "numerical: 0.400363 analytic: 0.400363, relative error: 5.081028e-08\n",
      "numerical: 2.816310 analytic: 2.816310, relative error: 3.144436e-08\n",
      "numerical: -2.757937 analytic: -2.757937, relative error: 8.991476e-09\n",
      "numerical: -1.255243 analytic: -1.255243, relative error: 2.485739e-08\n",
      "numerical: 1.889049 analytic: 1.889049, relative error: 2.039661e-08\n",
      "numerical: 2.762804 analytic: 2.762804, relative error: 3.680822e-09\n",
      "numerical: 1.310539 analytic: 1.310539, relative error: 2.542574e-08\n",
      "numerical: -0.413226 analytic: -0.413226, relative error: 5.350509e-08\n",
      "numerical: -2.883339 analytic: -2.883339, relative error: 6.460393e-09\n",
      "numerical: 0.983269 analytic: 0.983269, relative error: 7.967716e-09\n",
      "numerical: -0.014828 analytic: -0.014828, relative error: 1.900931e-06\n",
      "numerical: 0.280103 analytic: 0.280103, relative error: 2.217506e-07\n",
      "numerical: -1.238950 analytic: -1.238950, relative error: 3.820733e-08\n",
      "numerical: -1.934387 analytic: -1.934387, relative error: 2.309904e-08\n",
      "numerical: 1.669981 analytic: 1.669981, relative error: 1.897962e-08\n"
     ]
    }
   ],
   "source": [
    "# Complete the implementation of softmax_loss_naive and implement a (naive)\n",
    "# version of the gradient that uses nested loops.\n",
    "loss, grad = softmax_loss_naive(W, X_dev, y_dev, 0.0)\n",
    "\n",
    "# As we did for the SVM, use numeric gradient checking as a debugging tool.\n",
    "# The numeric gradient should be close to the analytic gradient.\n",
    "from cs231n.gradient_check import grad_check_sparse\n",
    "f = lambda w: softmax_loss_naive(w, X_dev, y_dev, 0.0)[0]\n",
    "grad_numerical = grad_check_sparse(f, W, grad, 10)\n",
    "\n",
    "# similar to SVM case, do another gradient check with regularization\n",
    "loss, grad = softmax_loss_naive(W, X_dev, y_dev, 5e1)\n",
    "f = lambda w: softmax_loss_naive(w, X_dev, y_dev, 5e1)[0]\n",
    "grad_numerical = grad_check_sparse(f, W, grad, 10)"
   ]
  },
  {
   "cell_type": "code",
   "execution_count": 6,
   "metadata": {
    "collapsed": false
   },
   "outputs": [
    {
     "name": "stdout",
     "output_type": "stream",
     "text": [
      "naive loss: 2.337688e+00 computed in 0.213357s\n",
      "vectorized loss: 2.337688e+00 computed in 0.008128s\n",
      "Loss difference: 0.000000\n",
      "Gradient difference: 0.000000\n"
     ]
    }
   ],
   "source": [
    "# Now that we have a naive implementation of the softmax loss function and its gradient,\n",
    "# implement a vectorized version in softmax_loss_vectorized.\n",
    "# The two versions should compute the same results, but the vectorized version should be\n",
    "# much faster.\n",
    "tic = time.time()\n",
    "loss_naive, grad_naive = softmax_loss_naive(W, X_dev, y_dev, 0.000005)\n",
    "toc = time.time()\n",
    "print('naive loss: %e computed in %fs' % (loss_naive, toc - tic))\n",
    "\n",
    "from cs231n.classifiers.softmax import softmax_loss_vectorized\n",
    "tic = time.time()\n",
    "loss_vectorized, grad_vectorized = softmax_loss_vectorized(W, X_dev, y_dev, 0.000005)\n",
    "toc = time.time()\n",
    "print('vectorized loss: %e computed in %fs' % (loss_vectorized, toc - tic))\n",
    "\n",
    "# As we did for the SVM, we use the Frobenius norm to compare the two versions\n",
    "# of the gradient.\n",
    "grad_difference = np.linalg.norm(grad_naive - grad_vectorized, ord='fro')\n",
    "print('Loss difference: %f' % np.abs(loss_naive - loss_vectorized))\n",
    "print('Gradient difference: %f' % grad_difference)"
   ]
  },
  {
   "cell_type": "code",
   "execution_count": 56,
   "metadata": {
    "collapsed": false
   },
   "outputs": [
    {
     "name": "stdout",
     "output_type": "stream",
     "text": [
      "Training softmax with hyperparams lr: 1e-05, reg: 125000.0\n",
      "Training softmax with hyperparams lr: 1e-05, reg: 175000.0\n",
      "Training softmax with hyperparams lr: 1e-05, reg: 200000.0\n",
      "Training softmax with hyperparams lr: 1e-05, reg: 250000.0\n",
      "Training softmax with hyperparams lr: 1.25e-05, reg: 125000.0\n",
      "Training softmax with hyperparams lr: 1.25e-05, reg: 175000.0\n",
      "Training softmax with hyperparams lr: 1.25e-05, reg: 200000.0\n",
      "Training softmax with hyperparams lr: 1.25e-05, reg: 250000.0\n",
      "Training softmax with hyperparams lr: 2.5e-05, reg: 125000.0\n",
      "Training softmax with hyperparams lr: 2.5e-05, reg: 175000.0\n",
      "Training softmax with hyperparams lr: 2.5e-05, reg: 200000.0\n",
      "Training softmax with hyperparams lr: 2.5e-05, reg: 250000.0\n",
      "Training softmax with hyperparams lr: 3.75e-05, reg: 125000.0\n",
      "Training softmax with hyperparams lr: 3.75e-05, reg: 175000.0\n",
      "Training softmax with hyperparams lr: 3.75e-05, reg: 200000.0\n",
      "Training softmax with hyperparams lr: 3.75e-05, reg: 250000.0\n",
      "lr 1.000000e-05 reg 1.250000e+05 train accuracy: 0.317041 val accuracy: 0.290000\n",
      "lr 1.000000e-05 reg 1.750000e+05 train accuracy: 0.339449 val accuracy: 0.329000\n",
      "lr 1.000000e-05 reg 2.000000e+05 train accuracy: 0.358327 val accuracy: 0.343000\n",
      "lr 1.000000e-05 reg 2.500000e+05 train accuracy: 0.353388 val accuracy: 0.332000\n",
      "lr 1.250000e-05 reg 1.250000e+05 train accuracy: 0.329918 val accuracy: 0.318000\n",
      "lr 1.250000e-05 reg 1.750000e+05 train accuracy: 0.313286 val accuracy: 0.275000\n",
      "lr 1.250000e-05 reg 2.000000e+05 train accuracy: 0.329796 val accuracy: 0.288000\n",
      "lr 1.250000e-05 reg 2.500000e+05 train accuracy: 0.279857 val accuracy: 0.279000\n",
      "lr 2.500000e-05 reg 1.250000e+05 train accuracy: 0.293082 val accuracy: 0.291000\n",
      "lr 2.500000e-05 reg 1.750000e+05 train accuracy: 0.273653 val accuracy: 0.263000\n",
      "lr 2.500000e-05 reg 2.000000e+05 train accuracy: 0.299918 val accuracy: 0.283000\n",
      "lr 2.500000e-05 reg 2.500000e+05 train accuracy: 0.251347 val accuracy: 0.233000\n",
      "lr 3.750000e-05 reg 1.250000e+05 train accuracy: 0.306918 val accuracy: 0.292000\n",
      "lr 3.750000e-05 reg 1.750000e+05 train accuracy: 0.330469 val accuracy: 0.312000\n",
      "lr 3.750000e-05 reg 2.000000e+05 train accuracy: 0.264714 val accuracy: 0.275000\n",
      "lr 3.750000e-05 reg 2.500000e+05 train accuracy: 0.285286 val accuracy: 0.270000\n",
      "best validation accuracy achieved during cross-validation: 0.343000\n"
     ]
    }
   ],
   "source": [
    "# Use the validation set to tune hyperparameters (regularization strength and\n",
    "# learning rate). You should experiment with different ranges for the learning\n",
    "# rates and regularization strengths; if you are careful you should be able to\n",
    "# get a classification accuracy of over 0.35 on the validation set.\n",
    "from cs231n.classifiers import Softmax\n",
    "results = {}\n",
    "best_val = -1\n",
    "best_softmax = None\n",
    "learning_rates = [1e-5, 1.25e-5, 2.5e-5, 3.75e-5]\n",
    "regularization_strengths = [1.25e5, 1.75e5, 2e5, 2.5e5]\n",
    "\n",
    "################################################################################\n",
    "# TODO:                                                                        #\n",
    "# Use the validation set to set the learning rate and regularization strength. #\n",
    "# This should be identical to the validation that you did for the SVM; save    #\n",
    "# the best trained softmax classifer in best_softmax.                          #\n",
    "################################################################################\n",
    "for lr in learning_rates:\n",
    "    for reg in regularization_strengths:\n",
    "        print('Training softmax with hyperparams lr: {}, reg: {}'.format(lr, reg))\n",
    "        classifier = Softmax()\n",
    "        loss_hist = classifier.train(X_train, y_train, learning_rate=lr, reg=reg,\n",
    "                      num_iters=1500, verbose=False)\n",
    "        y_train_pred = classifier.predict(X_train)\n",
    "        acc_train = np.mean(y_train == y_train_pred)\n",
    "        y_val_pred = classifier.predict(X_val)\n",
    "        acc_val = np.mean(y_val == y_val_pred)\n",
    "        results[(lr, reg)] = (acc_train, acc_val)\n",
    "        if acc_val > best_val:\n",
    "            best_val = acc_val\n",
    "            best_softmax = classifier\n",
    "################################################################################\n",
    "#                              END OF YOUR CODE                                #\n",
    "################################################################################\n",
    "    \n",
    "# Print out results.\n",
    "for lr, reg in sorted(results):\n",
    "    train_accuracy, val_accuracy = results[(lr, reg)]\n",
    "    print('lr %e reg %e train accuracy: %f val accuracy: %f' % (\n",
    "                lr, reg, train_accuracy, val_accuracy))\n",
    "    \n",
    "print('best validation accuracy achieved during cross-validation: %f' % best_val)"
   ]
  },
  {
   "cell_type": "code",
   "execution_count": 57,
   "metadata": {
    "collapsed": false
   },
   "outputs": [
    {
     "data": {
      "text/plain": [
       "{(1e-05, 125000.0): (0.31704081632653064, 0.28999999999999998),\n",
       " (1e-05, 175000.0): (0.33944897959183673, 0.32900000000000001),\n",
       " (1e-05, 200000.0): (0.3583265306122449, 0.34300000000000003),\n",
       " (1e-05, 250000.0): (0.35338775510204079, 0.33200000000000002),\n",
       " (1.25e-05, 125000.0): (0.3299183673469388, 0.318),\n",
       " (1.25e-05, 175000.0): (0.31328571428571428, 0.27500000000000002),\n",
       " (1.25e-05, 200000.0): (0.32979591836734695, 0.28799999999999998),\n",
       " (1.25e-05, 250000.0): (0.27985714285714286, 0.27900000000000003),\n",
       " (2.5e-05, 125000.0): (0.2930816326530612, 0.29099999999999998),\n",
       " (2.5e-05, 175000.0): (0.27365306122448979, 0.26300000000000001),\n",
       " (2.5e-05, 200000.0): (0.29991836734693877, 0.28299999999999997),\n",
       " (2.5e-05, 250000.0): (0.25134693877551023, 0.23300000000000001),\n",
       " (3.75e-05, 125000.0): (0.30691836734693878, 0.29199999999999998),\n",
       " (3.75e-05, 175000.0): (0.33046938775510204, 0.312),\n",
       " (3.75e-05, 200000.0): (0.26471428571428574, 0.27500000000000002),\n",
       " (3.75e-05, 250000.0): (0.28528571428571431, 0.27000000000000002)}"
      ]
     },
     "execution_count": 57,
     "metadata": {},
     "output_type": "execute_result"
    }
   ],
   "source": [
    "results"
   ]
  },
  {
   "cell_type": "code",
   "execution_count": 58,
   "metadata": {
    "collapsed": false
   },
   "outputs": [
    {
     "name": "stdout",
     "output_type": "stream",
     "text": [
      "softmax on raw pixels final test set accuracy: 0.318000\n"
     ]
    }
   ],
   "source": [
    "# evaluate on test set\n",
    "# Evaluate the best softmax on test set\n",
    "y_test_pred = best_softmax.predict(X_test)\n",
    "test_accuracy = np.mean(y_test == y_test_pred)\n",
    "print('softmax on raw pixels final test set accuracy: %f' % (test_accuracy, ))"
   ]
  },
  {
   "cell_type": "code",
   "execution_count": 59,
   "metadata": {
    "collapsed": false
   },
   "outputs": [
    {
     "data": {
      "image/png": "[encoded data removed]",
      "text/plain": [
       "<matplotlib.figure.Figure at 0x7f8a3cf4a2b0>"
      ]
     },
     "metadata": {},
     "output_type": "display_data"
    }
   ],
   "source": [
    "# Visualize the learned weights for each class\n",
    "w = best_softmax.W[:-1,:] # strip out the bias\n",
    "w = w.reshape(32, 32, 3, 10)\n",
    "\n",
    "w_min, w_max = np.min(w), np.max(w)\n",
    "\n",
    "classes = ['plane', 'car', 'bird', 'cat', 'deer', 'dog', 'frog', 'horse', 'ship', 'truck']\n",
    "for i in range(10):\n",
    "    plt.subplot(2, 5, i + 1)\n",
    "    \n",
    "    # Rescale the weights to be between 0 and 255\n",
    "    wimg = 255.0 * (w[:, :, :, i].squeeze() - w_min) / (w_max - w_min)\n",
    "    plt.imshow(wimg.astype('uint8'))\n",
    "    plt.axis('off')\n",
    "    plt.title(classes[i])"
   ]
  }
 ],
 "metadata": {
  "kernelspec": {
   "display_name": "Python 3",
   "language": "python",
   "name": "python3"
  },
  "language_info": {
   "codemirror_mode": {
    "name": "ipython",
    "version": 3
   },
   "file_extension": ".py",
   "mimetype": "text/x-python",
   "name": "python",
   "nbconvert_exporter": "python",
   "pygments_lexer": "ipython3",
   "version": "3.5.2"
  },
  "varInspector": {
   "cols": {
    "lenName": 16,
    "lenType": 16,
    "lenVar": 40
   },
   "kernels_config": {
    "python": {
     "delete_cmd_postfix": "",
     "delete_cmd_prefix": "del ",
     "library": "var_list.py",
     "varRefreshCmd": "print(var_dic_list())"
    },
    "r": {
     "delete_cmd_postfix": ") ",
     "delete_cmd_prefix": "rm(",
     "library": "var_list.r",
     "varRefreshCmd": "cat(var_dic_list()) "
    }
   },
   "types_to_exclude": [
    "module",
    "function",
    "builtin_function_or_method",
    "instance",
    "_Feature"
   ],
   "window_display": false
  }
 },
 "nbformat": 4,
 "nbformat_minor": 0
}
